{
  "nbformat": 4,
  "nbformat_minor": 0,
  "metadata": {
    "colab": {
      "provenance": [],
      "authorship_tag": "ABX9TyOu9LDEjY6D1G9ncp514bt6",
      "include_colab_link": true
    },
    "kernelspec": {
      "name": "python3",
      "display_name": "Python 3"
    },
    "language_info": {
      "name": "python"
    }
  },
  "cells": [
    {
      "cell_type": "markdown",
      "metadata": {
        "id": "view-in-github",
        "colab_type": "text"
      },
      "source": [
        "<a href=\"https://colab.research.google.com/github/awagler2/NODE/blob/main/CIPanalysis.ipynb\" target=\"_parent\"><img src=\"https://colab.research.google.com/assets/colab-badge.svg\" alt=\"Open In Colab\"/></a>"
      ]
    },
    {
      "cell_type": "code",
      "execution_count": null,
      "metadata": {
        "id": "vtQaUdd6CyT-"
      },
      "outputs": [],
      "source": [
        "import pandas as pd\n",
        "from sklearn.preprocessing import OneHotEncoder\n",
        "from sklearn.feature_extraction.text import TfidfVectorizer\n",
        "import numpy as np\n"
      ]
    },
    {
      "cell_type": "code",
      "source": [
        "# Sample dataset\n",
        "data = {\n",
        "    \"CIP Code\": [\"14.0901\", \"14.0702\", \"09.0102\", \"14.1001\", \"09.0701\"],\n",
        "    \"Description\": [\n",
        "        \"Computer Engineering, General\",\n",
        "        \"Chemical Engineering\",\n",
        "        \"Mass Communication/Media Studies\",\n",
        "        \"Electrical and Electronics Engineering\",\n",
        "        \"Radio and Television Broadcasting\"\n",
        "    ]\n",
        "}\n",
        "\n",
        "df = pd.DataFrame(data)\n"
      ],
      "metadata": {
        "id": "kJ0Pe3rSC3uE"
      },
      "execution_count": null,
      "outputs": []
    },
    {
      "cell_type": "code",
      "source": [
        "# External data (employment and salary)\n",
        "external_data = {\n",
        "    \"CIP Code\": [\"14.0901\", \"14.0702\", \"09.0102\", \"14.1001\", \"09.0701\"],\n",
        "    \"Median Salary\": [85000, 75000, 45000, 80000, 50000],  # Median salary in USD\n",
        "    \"Employment Growth (%)\": [12.0, 10.0, 8.0, 9.5, 7.0]  # Employment growth rate\n",
        "}\n",
        "\n",
        "external_df = pd.DataFrame(external_data)\n"
      ],
      "metadata": {
        "id": "HYHTO9evDZmm"
      },
      "execution_count": null,
      "outputs": []
    },
    {
      "cell_type": "code",
      "source": [
        "# Merge external data with the main dataset\n",
        "df_merged = pd.merge(df, external_df, on=\"CIP Code\", how=\"left\")\n"
      ],
      "metadata": {
        "id": "buwkhjb-Dcym"
      },
      "execution_count": null,
      "outputs": []
    },
    {
      "cell_type": "code",
      "source": [
        "from sklearn.preprocessing import MinMaxScaler\n",
        "\n",
        "# Select columns to normalize\n",
        "scaler = MinMaxScaler()\n",
        "df_merged[['Median Salary', 'Employment Growth (%)']] = scaler.fit_transform(\n",
        "    df_merged[['Median Salary', 'Employment Growth (%)']]\n",
        ")\n"
      ],
      "metadata": {
        "id": "4_q8DMU0Dge0"
      },
      "execution_count": null,
      "outputs": []
    },
    {
      "cell_type": "code",
      "source": [
        "# Extract levels from CIP codes\n",
        "df['Level_1'] = df['CIP Code'].str[:2]  # Broad category (2-digit)\n",
        "df['Level_2'] = df['CIP Code'].str[:5]  # Subfield (4-digit)\n",
        "df['Level_3'] = df['CIP Code']          # Full code (6-digit)\n"
      ],
      "metadata": {
        "id": "l6r52R5zC8-0"
      },
      "execution_count": null,
      "outputs": []
    },
    {
      "cell_type": "code",
      "source": [
        "# One-hot encode the levels\n",
        "encoder = OneHotEncoder()\n",
        "level_1_encoded = encoder.fit_transform(df[['Level_1']])\n",
        "level_2_encoded = encoder.fit_transform(df[['Level_2']])\n",
        "\n",
        "# Convert encoded arrays to DataFrame for clarity\n",
        "level_1_df = pd.DataFrame(level_1_encoded, columns=encoder.get_feature_names_out(['Level_1']))\n",
        "level_2_df = pd.DataFrame(level_2_encoded, columns=encoder.get_feature_names_out(['Level_2']))\n",
        "\n",
        "# Merge encoded features back into the original DataFrame\n",
        "df_encoded = pd.concat([df, level_1_df, level_2_df], axis=1)\n"
      ],
      "metadata": {
        "colab": {
          "base_uri": "https://localhost:8080/",
          "height": 356
        },
        "id": "c4fJuuL5C-BZ",
        "outputId": "9692b984-34a9-463f-c0e3-cf363f69e787"
      },
      "execution_count": null,
      "outputs": [
        {
          "output_type": "error",
          "ename": "ValueError",
          "evalue": "input_features is not equal to feature_names_in_",
          "traceback": [
            "\u001b[0;31m---------------------------------------------------------------------------\u001b[0m",
            "\u001b[0;31mValueError\u001b[0m                                Traceback (most recent call last)",
            "\u001b[0;32m<ipython-input-7-56b445a45a2d>\u001b[0m in \u001b[0;36m<cell line: 0>\u001b[0;34m()\u001b[0m\n\u001b[1;32m      5\u001b[0m \u001b[0;34m\u001b[0m\u001b[0m\n\u001b[1;32m      6\u001b[0m \u001b[0;31m# Convert encoded arrays to DataFrame for clarity\u001b[0m\u001b[0;34m\u001b[0m\u001b[0;34m\u001b[0m\u001b[0m\n\u001b[0;32m----> 7\u001b[0;31m \u001b[0mlevel_1_df\u001b[0m \u001b[0;34m=\u001b[0m \u001b[0mpd\u001b[0m\u001b[0;34m.\u001b[0m\u001b[0mDataFrame\u001b[0m\u001b[0;34m(\u001b[0m\u001b[0mlevel_1_encoded\u001b[0m\u001b[0;34m,\u001b[0m \u001b[0mcolumns\u001b[0m\u001b[0;34m=\u001b[0m\u001b[0mencoder\u001b[0m\u001b[0;34m.\u001b[0m\u001b[0mget_feature_names_out\u001b[0m\u001b[0;34m(\u001b[0m\u001b[0;34m[\u001b[0m\u001b[0;34m'Level_1'\u001b[0m\u001b[0;34m]\u001b[0m\u001b[0;34m)\u001b[0m\u001b[0;34m)\u001b[0m\u001b[0;34m\u001b[0m\u001b[0;34m\u001b[0m\u001b[0m\n\u001b[0m\u001b[1;32m      8\u001b[0m \u001b[0mlevel_2_df\u001b[0m \u001b[0;34m=\u001b[0m \u001b[0mpd\u001b[0m\u001b[0;34m.\u001b[0m\u001b[0mDataFrame\u001b[0m\u001b[0;34m(\u001b[0m\u001b[0mlevel_2_encoded\u001b[0m\u001b[0;34m,\u001b[0m \u001b[0mcolumns\u001b[0m\u001b[0;34m=\u001b[0m\u001b[0mencoder\u001b[0m\u001b[0;34m.\u001b[0m\u001b[0mget_feature_names_out\u001b[0m\u001b[0;34m(\u001b[0m\u001b[0;34m[\u001b[0m\u001b[0;34m'Level_2'\u001b[0m\u001b[0;34m]\u001b[0m\u001b[0;34m)\u001b[0m\u001b[0;34m)\u001b[0m\u001b[0;34m\u001b[0m\u001b[0;34m\u001b[0m\u001b[0m\n\u001b[1;32m      9\u001b[0m \u001b[0;34m\u001b[0m\u001b[0m\n",
            "\u001b[0;32m/usr/local/lib/python3.11/dist-packages/sklearn/preprocessing/_encoders.py\u001b[0m in \u001b[0;36mget_feature_names_out\u001b[0;34m(self, input_features)\u001b[0m\n\u001b[1;32m   1225\u001b[0m         \"\"\"\n\u001b[1;32m   1226\u001b[0m         \u001b[0mcheck_is_fitted\u001b[0m\u001b[0;34m(\u001b[0m\u001b[0mself\u001b[0m\u001b[0;34m)\u001b[0m\u001b[0;34m\u001b[0m\u001b[0;34m\u001b[0m\u001b[0m\n\u001b[0;32m-> 1227\u001b[0;31m         \u001b[0minput_features\u001b[0m \u001b[0;34m=\u001b[0m \u001b[0m_check_feature_names_in\u001b[0m\u001b[0;34m(\u001b[0m\u001b[0mself\u001b[0m\u001b[0;34m,\u001b[0m \u001b[0minput_features\u001b[0m\u001b[0;34m)\u001b[0m\u001b[0;34m\u001b[0m\u001b[0;34m\u001b[0m\u001b[0m\n\u001b[0m\u001b[1;32m   1228\u001b[0m         cats = [\n\u001b[1;32m   1229\u001b[0m             \u001b[0mself\u001b[0m\u001b[0;34m.\u001b[0m\u001b[0m_compute_transformed_categories\u001b[0m\u001b[0;34m(\u001b[0m\u001b[0mi\u001b[0m\u001b[0;34m)\u001b[0m\u001b[0;34m\u001b[0m\u001b[0;34m\u001b[0m\u001b[0m\n",
            "\u001b[0;32m/usr/local/lib/python3.11/dist-packages/sklearn/utils/validation.py\u001b[0m in \u001b[0;36m_check_feature_names_in\u001b[0;34m(estimator, input_features, generate_names)\u001b[0m\n\u001b[1;32m   2466\u001b[0m             \u001b[0mfeature_names_in_\u001b[0m\u001b[0;34m,\u001b[0m \u001b[0minput_features\u001b[0m\u001b[0;34m\u001b[0m\u001b[0;34m\u001b[0m\u001b[0m\n\u001b[1;32m   2467\u001b[0m         ):\n\u001b[0;32m-> 2468\u001b[0;31m             \u001b[0;32mraise\u001b[0m \u001b[0mValueError\u001b[0m\u001b[0;34m(\u001b[0m\u001b[0;34m\"input_features is not equal to feature_names_in_\"\u001b[0m\u001b[0;34m)\u001b[0m\u001b[0;34m\u001b[0m\u001b[0;34m\u001b[0m\u001b[0m\n\u001b[0m\u001b[1;32m   2469\u001b[0m \u001b[0;34m\u001b[0m\u001b[0m\n\u001b[1;32m   2470\u001b[0m         \u001b[0;32mif\u001b[0m \u001b[0mn_features_in_\u001b[0m \u001b[0;32mis\u001b[0m \u001b[0;32mnot\u001b[0m \u001b[0;32mNone\u001b[0m \u001b[0;32mand\u001b[0m \u001b[0mlen\u001b[0m\u001b[0;34m(\u001b[0m\u001b[0minput_features\u001b[0m\u001b[0;34m)\u001b[0m \u001b[0;34m!=\u001b[0m \u001b[0mn_features_in_\u001b[0m\u001b[0;34m:\u001b[0m\u001b[0;34m\u001b[0m\u001b[0;34m\u001b[0m\u001b[0m\n",
            "\u001b[0;31mValueError\u001b[0m: input_features is not equal to feature_names_in_"
          ]
        }
      ]
    },
    {
      "cell_type": "code",
      "source": [
        "# Use TF-IDF to encode text descriptions\n",
        "tfidf = TfidfVectorizer(max_features=10)  # Limit features for simplicity\n",
        "text_features = tfidf.fit_transform(df['Description']).toarray()\n",
        "\n",
        "# Convert to DataFrame\n",
        "text_features_df = pd.DataFrame(text_features, columns=tfidf.get_feature_names_out())\n",
        "\n",
        "# Merge text features into the dataset\n",
        "df_final = pd.concat([df_encoded, text_features_df], axis=1)\n"
      ],
      "metadata": {
        "id": "A89uOY4RDFn-",
        "colab": {
          "base_uri": "https://localhost:8080/",
          "height": 176
        },
        "outputId": "eddaf496-a489-434e-ca9b-a9defeb5216c"
      },
      "execution_count": null,
      "outputs": [
        {
          "output_type": "error",
          "ename": "NameError",
          "evalue": "name 'df_encoded' is not defined",
          "traceback": [
            "\u001b[0;31m---------------------------------------------------------------------------\u001b[0m",
            "\u001b[0;31mNameError\u001b[0m                                 Traceback (most recent call last)",
            "\u001b[0;32m<ipython-input-8-e71b5d904138>\u001b[0m in \u001b[0;36m<cell line: 0>\u001b[0;34m()\u001b[0m\n\u001b[1;32m      7\u001b[0m \u001b[0;34m\u001b[0m\u001b[0m\n\u001b[1;32m      8\u001b[0m \u001b[0;31m# Merge text features into the dataset\u001b[0m\u001b[0;34m\u001b[0m\u001b[0;34m\u001b[0m\u001b[0m\n\u001b[0;32m----> 9\u001b[0;31m \u001b[0mdf_final\u001b[0m \u001b[0;34m=\u001b[0m \u001b[0mpd\u001b[0m\u001b[0;34m.\u001b[0m\u001b[0mconcat\u001b[0m\u001b[0;34m(\u001b[0m\u001b[0;34m[\u001b[0m\u001b[0mdf_encoded\u001b[0m\u001b[0;34m,\u001b[0m \u001b[0mtext_features_df\u001b[0m\u001b[0;34m]\u001b[0m\u001b[0;34m,\u001b[0m \u001b[0maxis\u001b[0m\u001b[0;34m=\u001b[0m\u001b[0;36m1\u001b[0m\u001b[0;34m)\u001b[0m\u001b[0;34m\u001b[0m\u001b[0;34m\u001b[0m\u001b[0m\n\u001b[0m",
            "\u001b[0;31mNameError\u001b[0m: name 'df_encoded' is not defined"
          ]
        }
      ]
    },
    {
      "cell_type": "code",
      "source": [
        "from sklearn.manifold import TSNE\n",
        "import matplotlib.pyplot as plt\n",
        "\n",
        "# Drop non-numeric and original columns not needed for t-SNE\n",
        "features = df_final.drop(columns=['CIP Code', 'Description', 'Level_1', 'Level_2', 'Level_3'])\n",
        "\n",
        "# Run t-SNE\n",
        "tsne = TSNE(n_components=2, random_state=42)\n",
        "tsne_results = tsne.fit_transform(features)\n",
        "\n",
        "# Add t-SNE results to the DataFrame\n",
        "df_final['t-SNE_1'] = tsne_results[:, 0]\n",
        "df_final['t-SNE_2'] = tsne_results[:, 1]\n",
        "\n",
        "# Plot the results\n",
        "plt.figure(figsize=(8, 6))\n",
        "plt.scatter(df_final['t-SNE_1'], df_final['t-SNE_2'], c='blue', s=50)\n",
        "for i, label in enumerate(df['Description']):\n",
        "    plt.annotate(label, (df_final['t-SNE_1'][i], df_final['t-SNE_2'][i]))\n",
        "plt.title(\"t-SNE Visualization of CIP Codes\")\n",
        "plt.xlabel(\"t-SNE Dimension 1\")\n",
        "plt.ylabel(\"t-SNE Dimension 2\")\n",
        "plt.show()\n"
      ],
      "metadata": {
        "id": "nXsO7VwBDIgy"
      },
      "execution_count": null,
      "outputs": []
    },
    {
      "cell_type": "code",
      "source": [
        "# Include the new features in the t-SNE input\n",
        "features_with_external = df_merged.drop(columns=[\n",
        "    'CIP Code', 'Description', 'Level_1', 'Level_2', 'Level_3', 't-SNE_1', 't-SNE_2'\n",
        "])\n",
        "\n",
        "# Run t-SNE again\n",
        "tsne = TSNE(n_components=2, random_state=42)\n",
        "tsne_results_with_external = tsne.fit_transform(features_with_external)\n",
        "\n",
        "# Add updated t-SNE results to the DataFrame\n",
        "df_merged['t-SNE_1'] = tsne_results_with_external[:, 0]\n",
        "df_merged['t-SNE_2'] = tsne_results_with_external[:, 1]\n"
      ],
      "metadata": {
        "id": "J002RD3lDpgs"
      },
      "execution_count": null,
      "outputs": []
    },
    {
      "cell_type": "code",
      "source": [
        "# Plot the results\n",
        "import matplotlib.pyplot as plt\n",
        "\n",
        "plt.figure(figsize=(10, 7))\n",
        "plt.scatter(df_merged['t-SNE_1'], df_merged['t-SNE_2'], c='blue', s=50)\n",
        "\n",
        "# Annotate with employment and salary info\n",
        "for i, row in df_merged.iterrows():\n",
        "    label = f\"{row['Description']}\\nSalary: ${row['Median Salary']*100000:.0f}\\nGrowth: {row['Employment Growth (%)']*100:.1f}%\"\n",
        "    plt.annotate(label, (row['t-SNE_1'], row['t-SNE_2']), fontsize=8)\n",
        "\n",
        "plt.title(\"t-SNE Visualization with Employment and Salary Data\")\n",
        "plt.xlabel(\"t-SNE Dimension 1\")\n",
        "plt.ylabel(\"t-SNE Dimension 2\")\n",
        "plt.show()\n"
      ],
      "metadata": {
        "id": "gjcCAuKtDsSx"
      },
      "execution_count": null,
      "outputs": []
    }
  ]
}