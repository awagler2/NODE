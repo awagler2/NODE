{
  "nbformat": 4,
  "nbformat_minor": 0,
  "metadata": {
    "colab": {
      "provenance": [],
      "authorship_tag": "ABX9TyM8V7xRlGnxkj6WUHk2/WMl",
      "include_colab_link": true
    },
    "kernelspec": {
      "name": "python3",
      "display_name": "Python 3"
    },
    "language_info": {
      "name": "python"
    }
  },
  "cells": [
    {
      "cell_type": "markdown",
      "metadata": {
        "id": "view-in-github",
        "colab_type": "text"
      },
      "source": [
        "<a href=\"https://colab.research.google.com/github/awagler2/NODE/blob/main/GMM_code.ipynb\" target=\"_parent\"><img src=\"https://colab.research.google.com/assets/colab-badge.svg\" alt=\"Open In Colab\"/></a>"
      ]
    },
    {
      "source": [
        "# Install the lcmm package\n",
        "install.packages(\"lcmm\", dependencies = TRUE)"
      ],
      "cell_type": "code",
      "metadata": {
        "id": "E2Hs9s24V2xV"
      },
      "execution_count": null,
      "outputs": []
    },
    {
      "source": [
        "# Load the lcmm package\n",
        "library(lcmm)"
      ],
      "cell_type": "code",
      "metadata": {
        "id": "4jMQWBW9V5gZ"
      },
      "execution_count": null,
      "outputs": []
    },
    {
      "source": [
        "# Read in our final data here\n",
        "# should we mount to a shared google drive?"
      ],
      "cell_type": "code",
      "metadata": {
        "id": "gyZtSQ_aV5-e"
      },
      "execution_count": null,
      "outputs": []
    },
    {
      "source": [
        "# Define the model formula\n",
        "# 'outcome ~ time' specifies the outcome and time variables\n",
        "# 'random = ~time' specifies a random intercept and slope for time\n",
        "# 'mixture = ~time' specifies that the growth trajectories are mixed\n",
        "# 'ng = 2' specifies two latent classes (growth mixtures)\n",
        "model <- lcmm(outcome ~ time,\n",
        "              random = ~time,\n",
        "              mixture = ~time,\n",
        "              ng = 2,\n",
        "              data = mydata)"
      ],
      "cell_type": "code",
      "metadata": {
        "id": "y9G3KA1nV7iK"
      },
      "execution_count": null,
      "outputs": []
    },
    {
      "source": [
        "# Fit the model using the hlme function\n",
        "result <- hlme(model)"
      ],
      "cell_type": "code",
      "metadata": {
        "id": "Ml3kJMYSV9Af"
      },
      "execution_count": null,
      "outputs": []
    },
    {
      "source": [
        "# Summarize the model results\n",
        "summary(result)\n",
        "\n",
        "# Plot the predicted trajectories for each latent class\n",
        "plot(result, which =\"trajectory\")"
      ],
      "cell_type": "code",
      "metadata": {
        "id": "nQ6VpymNV-Px"
      },
      "execution_count": null,
      "outputs": []
    }
  ]
}