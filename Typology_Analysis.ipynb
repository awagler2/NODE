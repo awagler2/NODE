{
  "nbformat": 4,
  "nbformat_minor": 0,
  "metadata": {
    "colab": {
      "provenance": [],
      "include_colab_link": true
    },
    "kernelspec": {
      "name": "python3",
      "display_name": "Python 3"
    },
    "language_info": {
      "name": "python"
    }
  },
  "cells": [
    {
      "cell_type": "markdown",
      "metadata": {
        "id": "view-in-github",
        "colab_type": "text"
      },
      "source": [
        "<a href=\"https://colab.research.google.com/github/awagler2/NODE/blob/main/Typology_Analysis.ipynb\" target=\"_parent\"><img src=\"https://colab.research.google.com/assets/colab-badge.svg\" alt=\"Open In Colab\"/></a>"
      ]
    },
    {
      "cell_type": "markdown",
      "source": [
        "# Step 1"
      ],
      "metadata": {
        "id": "krMmYyFvgteK"
      }
    },
    {
      "cell_type": "markdown",
      "source": [
        "We merge institutional data from multiple CSV files into a unified dataset suitable for typology analysis. Each file contains different features about institutions, such as financial data, enrollment numbers, or instructional staff details. By combining these files, we create a comprehensive view of each institution's characteristics over multiple years.\n",
        "\n",
        "So we start with reading all relevant CSV files and a mapping file that specifies which columns to extract from each source. For columns not explicitly mapped but important for the analysis, a list of additional features ensures their inclusion. The code handles data inconsistencies, such as duplicate columns and missing values, by cleaning and standardizing the data. Missing-like values, such as empty strings or \"Missing/not reported,\" are replaced with \"N/A\" to maintain uniformity.\n",
        "\n",
        "To enhance the dataset, metadata like the institution's name, longitude, and latitude is added from a separate directory file. After merging all the data, the columns are rearranged for clarity, ensuring key identifiers like `unitid` and `year` are upfront, followed by location information and features. Finally, the cleaned, deduplicated dataset is saved as a CSV file, ready for analysis. This approach ensures a scalable, consistent, and comprehensive integration of data from diverse sources.\n"
      ],
      "metadata": {
        "id": "0GM8YtIFdQcW"
      }
    },
    {
      "cell_type": "code",
      "source": [
        "import pandas as pd\n",
        "\n",
        "csv_files = [\n",
        "    '/content/enrollment.csv',\n",
        "    '/content/finance.csv',\n",
        "    '/content/directory.csv',\n",
        "    '/content/program-year-tuition-cip.csv',\n",
        "    '/content/salaries-instructional-staff.csv',\n",
        "    '/content/salaries-noninstructional-staff.csv',\n",
        "    '/content/sfa-all-undergraduates.csv',\n",
        "    '/content/sfa-by-living-arrangement.csv',\n",
        "    '/content/sfa-by-tuition-type.csv',\n",
        "    '/content/student-faculty-ratio.csv',\n",
        "    '/content/completers.csv',\n",
        "    '/content/fall-enrollment-res.csv',\n",
        "    '/content/gradrates.csv',\n",
        "    '/content/institutional-characteristics.csv',\n",
        "    '/content/libraries.csv',\n",
        "    '/content/outcome-measures.csv',\n",
        "    '/content/completers.csv',\n",
        "    '/content/sfa-ftft.csv',\n",
        "    '/content/gradrates200.csv',\n",
        "    '/content/sfa-grants-and-net-price.csv',\n",
        "    '/content/requirements.csv',\n",
        "    '/content/gradratespell.csv',\n",
        "]\n",
        "\n",
        "additional_features = [\n",
        "    'acad_year_length_hours', 'acad_year_length_weeks', 'academic_rank', 'assets', 'assets_net',\n",
        "    'athletic_expense_treatment', 'average_grant', 'average_salary', 'avg_wgtd_mon_salary',\n",
        "    'award_assoc_4yr', 'award_bach_4yr', 'award_cert_4yr', 'books_supplies', 'buildings',\n",
        "    'capital_assets_other', 'completers', 'completers_100pct', 'completers_150pct', 'completers_4yr',\n",
        "    'completion_rate_150pct', 'completion_rate_4yr', 'conf_number_baseball', 'conf_number_basketball',\n",
        "    'conf_number_football', 'conf_number_track', 'def_inflows_pension', 'def_inflows_resources',\n",
        "    'def_outflows_pension', 'def_outflows_resources', 'dist_courses_offered', 'dist_ed_not_offered',\n",
        "    'dist_grad_not_offered', 'dist_grad_progs_offered', 'dist_progs_offered', 'dist_ug_not_offered',\n",
        "    'dist_ug_offered', 'dist_ug_progs_offered', 'dormitory_capacity', 'electronic_books',\n",
        "    'electronic_databases', 'electronic_media', 'electronic_serials', 'endowment_beg', 'endowment_end',\n",
        "    'enrollment', 'exp_acad_inst_student_salaries', 'exp_acad_inst_student_total', 'exp_acad_supp_salaries',\n",
        "    'exp_acad_supp_total', 'exp_aux_ent_salaries', 'exp_aux_ent_total', 'exp_fringe_benefits',\n",
        "    'exp_hospital_salaries', 'exp_hospital_total', 'exp_ind_op_salaries', 'exp_ind_op_total',\n",
        "    'exp_inst_supp_salaries', 'exp_inst_supp_total', 'exp_instruc_salaries', 'exp_instruc_total',\n",
        "    'exp_net_grant_aid_salaries', 'exp_net_grant_aid_total', 'exp_research_salaries',\n",
        "    'exp_research_total', 'exp_sal_wages_from_lib_budget', 'exp_student_serv_salaries',\n",
        "    'exp_student_serv_total', 'income_level', 'income_net', 'income_tax_fed', 'income_tax_state',\n",
        "    'infrastructure', 'instruc_staff_count', 'intangible_assets_net', 'interlibrary_loan_services',\n",
        "    'interlibrary_loans_provided', 'interlibrary_loans_received', 'invest_capital_assets',\n",
        "    'land_improvements', 'liabilities', 'living_arrangement', 'longterm_debt', 'longterm_investments',\n",
        "    'meals_per_week', 'military_training_credit', 'net_equity_beg_adjust', 'net_pension_liability',\n",
        "    'net_position_adjustments', 'net_position_beginning', 'net_position_change', 'net_position_end',\n",
        "    'number_admitted', 'number_applied', 'number_enrolled_ft', 'number_enrolled_pt',\n",
        "    'number_enrolled_total', 'number_of_students', 'number_receiving_grants', 'parent_child_allocation',\n",
        "    'parent_child_flag', 'parent_child_system_flag', 'parent_unitid', 'pell_grant_treatment',\n",
        "    'pension_expense', 'percent_of_cohort', 'percent_of_students', 'percent_of_undergrads',\n",
        "    'program_length_hours', 'program_length_weeks', 'program_size_rank', 'race', 'rev_additions',\n",
        "    'rev_affiliated_entities', 'rev_appropriations_fed', 'rev_appropriations_local',\n",
        "    'rev_appropriations_state', 'rev_auxiliary_enterprises_gross', 'rev_auxiliary_enterprises_net',\n",
        "    'rev_capital_approps', 'rev_capital_grants_gifts', 'rev_edu_services_sales', 'rev_endowment_additions',\n",
        "    'rev_endowment_income', 'rev_fed_approps_grants', 'rev_gifts_grants_contracts',\n",
        "    'rev_grants_contracts_federal', 'rev_grants_contracts_local', 'rev_grants_contracts_state',\n",
        "    'rev_hosp_ind_op_other', 'rev_hospital', 'rev_independent_operations', 'rev_investment_return',\n",
        "    'rev_nonoperating', 'rev_operating', 'rev_other', 'rev_other_additions', 'rev_other_nonoperating',\n",
        "    'rev_other_operating', 'rev_state_local_approps_grants', 'rev_total_current',\n",
        "    'rev_tuition_fees_gross', 'rev_tuition_fees_net', 'room_board_charge', 'rotc_navy_marinecorps',\n",
        "    'sch_allowances_aux_enterp', 'sch_allowances_total', 'sch_allowances_tuition_fees',\n",
        "    'sch_exp_net_fellowships', 'sch_grants_institutional', 'sch_grants_local', 'sch_grants_private',\n",
        "    'sch_grants_state', 'sch_grants_state_local', 'sch_other_federal_grants', 'sch_pell_grant',\n",
        "    'sch_restricted_inst_grants', 'sch_total_student_aid', 'sch_unrestricted_inst_grants',\n",
        "    'undergrad_research'\n",
        "]\n",
        "\n",
        "mappings_file = '/content/IPEDS_CSV_Variable_Mappings.csv'\n",
        "mappings_df = pd.read_csv(mappings_file)\n",
        "\n",
        "merged_data = pd.DataFrame()\n",
        "\n",
        "def deduplicate_and_align(data, on_columns):\n",
        "    return data.drop_duplicates(subset=on_columns).reset_index(drop=True)\n",
        "\n",
        "def clean_tuition_data(file_path):\n",
        "    tuition_data = pd.read_csv(file_path, low_memory=False)\n",
        "    tuition_data = tuition_data.drop(columns=['Unnamed: 0'])\n",
        "    tuition_data = tuition_data[tuition_data['year'] >= 2017]\n",
        "\n",
        "    tuition_data.replace({'Missing/not reported': 'N/A', None: 'N/A'}, inplace=True)\n",
        "    tuition_data.fillna({'tuition_fees': 0, 'books_supplies': 0}, inplace=True)\n",
        "\n",
        "    aggregated_data = tuition_data.groupby(['unitid', 'year']).agg({\n",
        "        'tuition_fees': 'mean',\n",
        "        'books_supplies': 'mean',\n",
        "        'program_length_hours': 'median',\n",
        "        'contact_or_credit_hours': 'first'\n",
        "    }).reset_index()\n",
        "\n",
        "    return aggregated_data\n",
        "\n",
        "tuition_data_cleaned = clean_tuition_data('/content/program-year-tuition-cip.csv')\n",
        "\n",
        "processed_features = set()\n",
        "\n",
        "for csv_file in csv_files:\n",
        "    if 'program-year-tuition-cip' in csv_file:\n",
        "        continue\n",
        "\n",
        "    file_name = csv_file.split('/')[-1].replace('.csv', '')\n",
        "    mapped_vars = mappings_df[mappings_df['CSV_File_Source'] == file_name]\n",
        "\n",
        "    df = pd.read_csv(csv_file, low_memory=False)\n",
        "\n",
        "    if df.columns.duplicated().any():\n",
        "        print(f\"Duplicate columns detected in {csv_file}: {df.columns[df.columns.duplicated()].tolist()}\")\n",
        "        df = df.loc[:, ~df.columns.duplicated()]\n",
        "\n",
        "    df.replace({\"Missing/not reported\": \"N/A\", \"\": \"N/A\"}, inplace=True)\n",
        "    df.fillna(\"N/A\", inplace=True)\n",
        "\n",
        "    relevant_columns = ['unitid', 'year'] + mapped_vars['Matched_CSV_Variable'].tolist()\n",
        "    for feature in additional_features:\n",
        "        if feature in df.columns and feature not in processed_features:\n",
        "            relevant_columns.append(feature)\n",
        "            processed_features.add(feature)\n",
        "\n",
        "    relevant_columns = [col for col in relevant_columns if col in df.columns]\n",
        "    if relevant_columns:\n",
        "        df = df[relevant_columns]\n",
        "\n",
        "        if 'year' in df.columns:\n",
        "            df = df[df['year'] >= 2017]\n",
        "\n",
        "        df = deduplicate_and_align(df, ['unitid', 'year'])\n",
        "\n",
        "        if merged_data.empty:\n",
        "            merged_data = df\n",
        "        else:\n",
        "            merged_data = pd.merge(\n",
        "                merged_data,\n",
        "                df,\n",
        "                on=['unitid', 'year'],\n",
        "                how='outer',\n",
        "                suffixes=('', f'_{file_name}')\n",
        "            )\n",
        "\n",
        "merged_data = pd.merge(\n",
        "    merged_data,\n",
        "    tuition_data_cleaned,\n",
        "    on=['unitid', 'year'],\n",
        "    how='outer'\n",
        ")\n",
        "\n",
        "directory_file = '/content/directory.csv'\n",
        "directory_df = pd.read_csv(directory_file, low_memory=False)\n",
        "\n",
        "directory_df.rename(columns={\n",
        "    'inst_name': 'institution_name',\n",
        "    'long': 'longitude',\n",
        "    'lat': 'latitude'\n",
        "}, inplace=True)\n",
        "\n",
        "required_columns = ['unitid', 'institution_name', 'longitude', 'latitude']\n",
        "if all(col in directory_df.columns for col in required_columns):\n",
        "    merged_data = pd.merge(\n",
        "        merged_data,\n",
        "        directory_df[required_columns],\n",
        "        on='unitid',\n",
        "        how='left'\n",
        "    )\n",
        "else:\n",
        "    print(\"Directory file is missing one or more required columns.\")\n",
        "\n",
        "merged_data.replace({\"\": \"N/A\", \"Missing/not reported\": \"N/A\", \"Not applicable\": \"N/A\"}, inplace=True)\n",
        "merged_data.fillna(\"N/A\", inplace=True)\n",
        "\n",
        "column_order = ['unitid', 'year', 'longitude', 'latitude', 'institution_name'] + \\\n",
        "               [col for col in merged_data.columns if col not in ['unitid', 'year', 'longitude', 'latitude', 'institution_name']]\n",
        "merged_data = merged_data[column_order]\n",
        "\n",
        "merged_data = deduplicate_and_align(merged_data, ['unitid', 'year'])\n",
        "\n",
        "output_file = '/content/Merged_Indicators_By_Year.csv'\n",
        "merged_data.to_csv(output_file, index=False)\n",
        "\n",
        "from google.colab import files\n",
        "files.download(output_file)\n",
        "\n",
        "print(f\"Merged data saved to {output_file}.\")"
      ],
      "metadata": {
        "colab": {
          "base_uri": "https://localhost:8080/",
          "height": 748
        },
        "id": "m1wkPoxCBZOL",
        "outputId": "80388f68-94be-46f2-a0db-7e61409840f4"
      },
      "execution_count": null,
      "outputs": [
        {
          "output_type": "stream",
          "name": "stderr",
          "text": [
            "<ipython-input-1-d60432a643ab>:129: FutureWarning: Setting an item of incompatible dtype is deprecated and will raise an error in a future version of pandas. Value 'N/A' has dtype incompatible with float64, please explicitly cast to a compatible dtype first.\n",
            "  df.fillna(\"N/A\", inplace=True)\n",
            "<ipython-input-1-d60432a643ab>:129: FutureWarning: Setting an item of incompatible dtype is deprecated and will raise an error in a future version of pandas. Value 'N/A' has dtype incompatible with float64, please explicitly cast to a compatible dtype first.\n",
            "  df.fillna(\"N/A\", inplace=True)\n",
            "<ipython-input-1-d60432a643ab>:129: FutureWarning: Setting an item of incompatible dtype is deprecated and will raise an error in a future version of pandas. Value 'N/A' has dtype incompatible with float64, please explicitly cast to a compatible dtype first.\n",
            "  df.fillna(\"N/A\", inplace=True)\n",
            "<ipython-input-1-d60432a643ab>:129: FutureWarning: Setting an item of incompatible dtype is deprecated and will raise an error in a future version of pandas. Value 'N/A' has dtype incompatible with float64, please explicitly cast to a compatible dtype first.\n",
            "  df.fillna(\"N/A\", inplace=True)\n",
            "<ipython-input-1-d60432a643ab>:129: FutureWarning: Setting an item of incompatible dtype is deprecated and will raise an error in a future version of pandas. Value 'N/A' has dtype incompatible with float64, please explicitly cast to a compatible dtype first.\n",
            "  df.fillna(\"N/A\", inplace=True)\n",
            "<ipython-input-1-d60432a643ab>:129: FutureWarning: Setting an item of incompatible dtype is deprecated and will raise an error in a future version of pandas. Value 'N/A' has dtype incompatible with float64, please explicitly cast to a compatible dtype first.\n",
            "  df.fillna(\"N/A\", inplace=True)\n",
            "<ipython-input-1-d60432a643ab>:129: FutureWarning: Setting an item of incompatible dtype is deprecated and will raise an error in a future version of pandas. Value 'N/A' has dtype incompatible with float64, please explicitly cast to a compatible dtype first.\n",
            "  df.fillna(\"N/A\", inplace=True)\n",
            "<ipython-input-1-d60432a643ab>:129: FutureWarning: Setting an item of incompatible dtype is deprecated and will raise an error in a future version of pandas. Value 'N/A' has dtype incompatible with float64, please explicitly cast to a compatible dtype first.\n",
            "  df.fillna(\"N/A\", inplace=True)\n",
            "<ipython-input-1-d60432a643ab>:129: FutureWarning: Setting an item of incompatible dtype is deprecated and will raise an error in a future version of pandas. Value 'N/A' has dtype incompatible with float64, please explicitly cast to a compatible dtype first.\n",
            "  df.fillna(\"N/A\", inplace=True)\n",
            "<ipython-input-1-d60432a643ab>:129: FutureWarning: Setting an item of incompatible dtype is deprecated and will raise an error in a future version of pandas. Value 'N/A' has dtype incompatible with float64, please explicitly cast to a compatible dtype first.\n",
            "  df.fillna(\"N/A\", inplace=True)\n",
            "<ipython-input-1-d60432a643ab>:129: FutureWarning: Setting an item of incompatible dtype is deprecated and will raise an error in a future version of pandas. Value 'N/A' has dtype incompatible with float64, please explicitly cast to a compatible dtype first.\n",
            "  df.fillna(\"N/A\", inplace=True)\n",
            "<ipython-input-1-d60432a643ab>:129: FutureWarning: Setting an item of incompatible dtype is deprecated and will raise an error in a future version of pandas. Value 'N/A' has dtype incompatible with float64, please explicitly cast to a compatible dtype first.\n",
            "  df.fillna(\"N/A\", inplace=True)\n",
            "<ipython-input-1-d60432a643ab>:129: FutureWarning: Setting an item of incompatible dtype is deprecated and will raise an error in a future version of pandas. Value 'N/A' has dtype incompatible with float64, please explicitly cast to a compatible dtype first.\n",
            "  df.fillna(\"N/A\", inplace=True)\n",
            "<ipython-input-1-d60432a643ab>:129: FutureWarning: Setting an item of incompatible dtype is deprecated and will raise an error in a future version of pandas. Value 'N/A' has dtype incompatible with float64, please explicitly cast to a compatible dtype first.\n",
            "  df.fillna(\"N/A\", inplace=True)\n",
            "<ipython-input-1-d60432a643ab>:129: FutureWarning: Setting an item of incompatible dtype is deprecated and will raise an error in a future version of pandas. Value 'N/A' has dtype incompatible with float64, please explicitly cast to a compatible dtype first.\n",
            "  df.fillna(\"N/A\", inplace=True)\n",
            "<ipython-input-1-d60432a643ab>:129: FutureWarning: Setting an item of incompatible dtype is deprecated and will raise an error in a future version of pandas. Value 'N/A' has dtype incompatible with float64, please explicitly cast to a compatible dtype first.\n",
            "  df.fillna(\"N/A\", inplace=True)\n",
            "<ipython-input-1-d60432a643ab>:129: FutureWarning: Setting an item of incompatible dtype is deprecated and will raise an error in a future version of pandas. Value 'N/A' has dtype incompatible with float64, please explicitly cast to a compatible dtype first.\n",
            "  df.fillna(\"N/A\", inplace=True)\n",
            "<ipython-input-1-d60432a643ab>:129: FutureWarning: Setting an item of incompatible dtype is deprecated and will raise an error in a future version of pandas. Value 'N/A' has dtype incompatible with float64, please explicitly cast to a compatible dtype first.\n",
            "  df.fillna(\"N/A\", inplace=True)\n",
            "<ipython-input-1-d60432a643ab>:193: FutureWarning: Downcasting behavior in `replace` is deprecated and will be removed in a future version. To retain the old behavior, explicitly call `result.infer_objects(copy=False)`. To opt-in to the future behavior, set `pd.set_option('future.no_silent_downcasting', True)`\n",
            "  merged_data.replace({\"\": \"N/A\", \"Missing/not reported\": \"N/A\", \"Not applicable\": \"N/A\"}, inplace=True)\n",
            "<ipython-input-1-d60432a643ab>:194: FutureWarning: Setting an item of incompatible dtype is deprecated and will raise an error in a future version of pandas. Value 'N/A' has dtype incompatible with float64, please explicitly cast to a compatible dtype first.\n",
            "  merged_data.fillna(\"N/A\", inplace=True)\n"
          ]
        },
        {
          "output_type": "display_data",
          "data": {
            "text/plain": [
              "<IPython.core.display.Javascript object>"
            ],
            "application/javascript": [
              "\n",
              "    async function download(id, filename, size) {\n",
              "      if (!google.colab.kernel.accessAllowed) {\n",
              "        return;\n",
              "      }\n",
              "      const div = document.createElement('div');\n",
              "      const label = document.createElement('label');\n",
              "      label.textContent = `Downloading \"${filename}\": `;\n",
              "      div.appendChild(label);\n",
              "      const progress = document.createElement('progress');\n",
              "      progress.max = size;\n",
              "      div.appendChild(progress);\n",
              "      document.body.appendChild(div);\n",
              "\n",
              "      const buffers = [];\n",
              "      let downloaded = 0;\n",
              "\n",
              "      const channel = await google.colab.kernel.comms.open(id);\n",
              "      // Send a message to notify the kernel that we're ready.\n",
              "      channel.send({})\n",
              "\n",
              "      for await (const message of channel.messages) {\n",
              "        // Send a message to notify the kernel that we're ready.\n",
              "        channel.send({})\n",
              "        if (message.buffers) {\n",
              "          for (const buffer of message.buffers) {\n",
              "            buffers.push(buffer);\n",
              "            downloaded += buffer.byteLength;\n",
              "            progress.value = downloaded;\n",
              "          }\n",
              "        }\n",
              "      }\n",
              "      const blob = new Blob(buffers, {type: 'application/binary'});\n",
              "      const a = document.createElement('a');\n",
              "      a.href = window.URL.createObjectURL(blob);\n",
              "      a.download = filename;\n",
              "      div.appendChild(a);\n",
              "      a.click();\n",
              "      div.remove();\n",
              "    }\n",
              "  "
            ]
          },
          "metadata": {}
        },
        {
          "output_type": "display_data",
          "data": {
            "text/plain": [
              "<IPython.core.display.Javascript object>"
            ],
            "application/javascript": [
              "download(\"download_4e4de30c-3a45-40b9-a0ab-1d84133b5150\", \"Merged_Indicators_By_Year.csv\", 77236946)"
            ]
          },
          "metadata": {}
        },
        {
          "output_type": "stream",
          "name": "stdout",
          "text": [
            "Merged data saved to /content/Merged_Indicators_By_Year.csv.\n"
          ]
        }
      ]
    },
    {
      "cell_type": "markdown",
      "source": [
        "# Step 2"
      ],
      "metadata": {
        "id": "2pNISDAIgxSf"
      }
    },
    {
      "cell_type": "code",
      "source": [
        "!pip install missingno"
      ],
      "metadata": {
        "colab": {
          "base_uri": "https://localhost:8080/"
        },
        "id": "MiBhdNJWz0q-",
        "outputId": "a141ad1a-a040-4cdb-82c2-784cdc66ad12"
      },
      "execution_count": null,
      "outputs": [
        {
          "output_type": "stream",
          "name": "stdout",
          "text": [
            "Requirement already satisfied: missingno in /usr/local/lib/python3.10/dist-packages (0.5.2)\n",
            "Requirement already satisfied: numpy in /usr/local/lib/python3.10/dist-packages (from missingno) (1.26.4)\n",
            "Requirement already satisfied: matplotlib in /usr/local/lib/python3.10/dist-packages (from missingno) (3.8.0)\n",
            "Requirement already satisfied: scipy in /usr/local/lib/python3.10/dist-packages (from missingno) (1.13.1)\n",
            "Requirement already satisfied: seaborn in /usr/local/lib/python3.10/dist-packages (from missingno) (0.13.2)\n",
            "Requirement already satisfied: contourpy>=1.0.1 in /usr/local/lib/python3.10/dist-packages (from matplotlib->missingno) (1.3.1)\n",
            "Requirement already satisfied: cycler>=0.10 in /usr/local/lib/python3.10/dist-packages (from matplotlib->missingno) (0.12.1)\n",
            "Requirement already satisfied: fonttools>=4.22.0 in /usr/local/lib/python3.10/dist-packages (from matplotlib->missingno) (4.55.0)\n",
            "Requirement already satisfied: kiwisolver>=1.0.1 in /usr/local/lib/python3.10/dist-packages (from matplotlib->missingno) (1.4.7)\n",
            "Requirement already satisfied: packaging>=20.0 in /usr/local/lib/python3.10/dist-packages (from matplotlib->missingno) (24.2)\n",
            "Requirement already satisfied: pillow>=6.2.0 in /usr/local/lib/python3.10/dist-packages (from matplotlib->missingno) (11.0.0)\n",
            "Requirement already satisfied: pyparsing>=2.3.1 in /usr/local/lib/python3.10/dist-packages (from matplotlib->missingno) (3.2.0)\n",
            "Requirement already satisfied: python-dateutil>=2.7 in /usr/local/lib/python3.10/dist-packages (from matplotlib->missingno) (2.8.2)\n",
            "Requirement already satisfied: pandas>=1.2 in /usr/local/lib/python3.10/dist-packages (from seaborn->missingno) (2.2.2)\n",
            "Requirement already satisfied: pytz>=2020.1 in /usr/local/lib/python3.10/dist-packages (from pandas>=1.2->seaborn->missingno) (2024.2)\n",
            "Requirement already satisfied: tzdata>=2022.7 in /usr/local/lib/python3.10/dist-packages (from pandas>=1.2->seaborn->missingno) (2024.2)\n",
            "Requirement already satisfied: six>=1.5 in /usr/local/lib/python3.10/dist-packages (from python-dateutil>=2.7->matplotlib->missingno) (1.16.0)\n"
          ]
        }
      ]
    },
    {
      "cell_type": "code",
      "source": [
        "import pandas as pd\n",
        "import missingno as msno\n",
        "import matplotlib.pyplot as plt\n",
        "from matplotlib.backends.backend_pdf import PdfPages\n",
        "\n",
        "merged_data = pd.read_csv('/content/Merged_Indicators_By_Year.csv')\n",
        "\n",
        "def split_dataset(data, group_size=15):\n",
        "    column_groups = [data.columns[i:i+group_size] for i in range(0, len(data.columns), group_size)]\n",
        "    return [data[columns] for columns in column_groups]\n",
        "\n",
        "output_pdf = PdfPages('Missing_Data_Analysis.pdf')\n",
        "\n",
        "print(\"Big Matrix and Heatmap Overview for Entire Dataset\")\n",
        "plt.figure(figsize=(18, 8))\n",
        "msno.matrix(merged_data, sparkline=False)\n",
        "plt.title('Missing Data - Entire Dataset')\n",
        "plt.savefig(output_pdf, format='pdf')\n",
        "plt.close()\n",
        "\n",
        "plt.figure(figsize=(18, 8))\n",
        "msno.heatmap(merged_data)\n",
        "plt.title('Missing Data Correlation - Entire Dataset')\n",
        "plt.savefig(output_pdf, format='pdf')\n",
        "plt.close()\n",
        "\n",
        "feature_groups = split_dataset(merged_data, group_size=15)\n",
        "\n",
        "for idx, group_data in enumerate(feature_groups):\n",
        "    group_name = f\"Feature Group {idx + 1}\"\n",
        "    print(f\"\\nAnalyzing missing data for {group_name}...\\n\")\n",
        "\n",
        "    plt.figure(figsize=(12, 6))\n",
        "    msno.matrix(group_data, sparkline=False)\n",
        "    plt.title(f'Missing Data - {group_name}')\n",
        "    plt.savefig(output_pdf, format='pdf')\n",
        "    plt.close()\n",
        "\n",
        "    plt.figure(figsize=(10, 6))\n",
        "    msno.heatmap(group_data)\n",
        "    plt.title(f'Missing Data Correlation - {group_name}')\n",
        "    plt.savefig(output_pdf, format='pdf')\n",
        "    plt.close()\n",
        "\n",
        "    missing_counts = group_data.isnull().sum()\n",
        "    missing_percentage = (missing_counts / len(group_data)) * 100\n",
        "    summary_df = pd.DataFrame({\n",
        "        'Variable': group_data.columns,\n",
        "        'Missing Values': missing_counts,\n",
        "        'Percentage Missing': missing_percentage\n",
        "    }).sort_values(by='Missing Values', ascending=False)\n",
        "\n",
        "    print(f\"Summary of missing data for {group_name}:\")\n",
        "    print(summary_df)\n",
        "\n",
        "    fig, ax = plt.subplots(figsize=(12, len(summary_df) * 0.3))\n",
        "    ax.axis('tight')\n",
        "    ax.axis('off')\n",
        "    table = ax.table(\n",
        "        cellText=summary_df.values,\n",
        "        colLabels=summary_df.columns,\n",
        "        loc='center',\n",
        "        cellLoc='center'\n",
        "    )\n",
        "    table.auto_set_font_size(False)\n",
        "    table.set_fontsize(10)\n",
        "    table.auto_set_column_width(col=list(range(len(summary_df.columns))))\n",
        "    plt.title(f'Summary of Missing Data - {group_name}', fontsize=14)\n",
        "    plt.savefig(output_pdf, format='pdf')\n",
        "    plt.close()\n",
        "\n",
        "output_pdf.close()\n",
        "\n",
        "from google.colab import files\n",
        "files.download('Missing_Data_Analysis.pdf')\n",
        "\n",
        "print(\"Missing Data Analysis saved to Missing_Data_Analysis.pdf and downloaded.\")\n"
      ],
      "metadata": {
        "colab": {
          "base_uri": "https://localhost:8080/",
          "height": 1000
        },
        "id": "BuWMnqnu3jqv",
        "outputId": "cd682414-589b-409a-8255-3ca9734a8be7"
      },
      "execution_count": null,
      "outputs": [
        {
          "output_type": "stream",
          "name": "stderr",
          "text": [
            "<ipython-input-11-de87b5b52827>:7: DtypeWarning: Columns (12,126,140,141,142,143,144) have mixed types. Specify dtype option on import or set low_memory=False.\n",
            "  merged_data = pd.read_csv('/content/Merged_Indicators_By_Year.csv')\n"
          ]
        },
        {
          "output_type": "stream",
          "name": "stdout",
          "text": [
            "Big Matrix and Heatmap Overview for Entire Dataset\n",
            "\n",
            "Analyzing missing data for Feature Group 1...\n",
            "\n",
            "Summary of missing data for Feature Group 1:\n",
            "                                              Variable  Missing Values  \\\n",
            "capital_assets_other              capital_assets_other           39779   \n",
            "assets_net                                  assets_net           38302   \n",
            "buildings                                    buildings           36608   \n",
            "athletic_expense_treatment  athletic_expense_treatment           36572   \n",
            "assets                                          assets           36216   \n",
            "number_enrolled_pt                  number_enrolled_pt           31235   \n",
            "number_enrolled_ft                  number_enrolled_ft           28685   \n",
            "number_enrolled_total            number_enrolled_total           28526   \n",
            "number_admitted                        number_admitted           28432   \n",
            "number_applied                          number_applied           27863   \n",
            "unitid                                          unitid               0   \n",
            "year                                              year               0   \n",
            "longitude                                    longitude               0   \n",
            "latitude                                      latitude               0   \n",
            "institution_name                      institution_name               0   \n",
            "\n",
            "                            Percentage Missing  \n",
            "capital_assets_other                 99.581936  \n",
            "assets_net                           95.884444  \n",
            "buildings                            91.643719  \n",
            "athletic_expense_treatment           91.553597  \n",
            "assets                               90.662394  \n",
            "number_enrolled_pt                   78.193061  \n",
            "number_enrolled_ft                   71.809443  \n",
            "number_enrolled_total                71.411405  \n",
            "number_admitted                      71.176088  \n",
            "number_applied                       69.751665  \n",
            "unitid                                0.000000  \n",
            "year                                  0.000000  \n",
            "longitude                             0.000000  \n",
            "latitude                              0.000000  \n",
            "institution_name                      0.000000  \n",
            "\n",
            "Analyzing missing data for Feature Group 2...\n",
            "\n",
            "Summary of missing data for Feature Group 2:\n",
            "                                                      Variable  \\\n",
            "exp_hospital_salaries                    exp_hospital_salaries   \n",
            "exp_hospital_total                          exp_hospital_total   \n",
            "exp_ind_op_salaries                        exp_ind_op_salaries   \n",
            "def_inflows_resources                    def_inflows_resources   \n",
            "def_outflows_resources                  def_outflows_resources   \n",
            "def_inflows_pension                        def_inflows_pension   \n",
            "def_outflows_pension                      def_outflows_pension   \n",
            "exp_aux_ent_salaries                      exp_aux_ent_salaries   \n",
            "endowment_beg                                    endowment_beg   \n",
            "endowment_end                                    endowment_end   \n",
            "exp_aux_ent_total                            exp_aux_ent_total   \n",
            "exp_acad_supp_salaries                  exp_acad_supp_salaries   \n",
            "exp_acad_supp_total                        exp_acad_supp_total   \n",
            "exp_acad_inst_student_salaries  exp_acad_inst_student_salaries   \n",
            "exp_acad_inst_student_total        exp_acad_inst_student_total   \n",
            "\n",
            "                                Missing Values  Percentage Missing  \n",
            "exp_hospital_salaries                    39871           99.812247  \n",
            "exp_hospital_total                       39871           99.812247  \n",
            "exp_ind_op_salaries                      39865           99.797226  \n",
            "def_inflows_resources                    38611           96.657988  \n",
            "def_outflows_resources                   38594           96.615431  \n",
            "def_inflows_pension                      38554           96.515296  \n",
            "def_outflows_pension                     38537           96.472738  \n",
            "exp_aux_ent_salaries                     37396           93.616382  \n",
            "endowment_beg                            37279           93.323487  \n",
            "endowment_end                            37253           93.258399  \n",
            "exp_aux_ent_total                        37025           92.687628  \n",
            "exp_acad_supp_salaries                   34754           87.002453  \n",
            "exp_acad_supp_total                      34367           86.033645  \n",
            "exp_acad_inst_student_salaries           34031           85.192510  \n",
            "exp_acad_inst_student_total              33852           84.744405  \n",
            "\n",
            "Analyzing missing data for Feature Group 3...\n",
            "\n",
            "Summary of missing data for Feature Group 3:\n",
            "                                              Variable  Missing Values  \\\n",
            "exp_net_grant_aid_salaries  exp_net_grant_aid_salaries           39946   \n",
            "exp_ind_op_total                      exp_ind_op_total           39840   \n",
            "income_tax_fed                          income_tax_fed           39782   \n",
            "income_tax_state                      income_tax_state           39765   \n",
            "infrastructure                          infrastructure           39085   \n",
            "exp_research_salaries            exp_research_salaries           38772   \n",
            "exp_research_total                  exp_research_total           38649   \n",
            "exp_net_grant_aid_total        exp_net_grant_aid_total           37893   \n",
            "income_net                                  income_net           37733   \n",
            "exp_student_serv_salaries    exp_student_serv_salaries           34432   \n",
            "exp_inst_supp_salaries          exp_inst_supp_salaries           34270   \n",
            "exp_student_serv_total          exp_student_serv_total           34149   \n",
            "exp_inst_supp_total                exp_inst_supp_total           33942   \n",
            "exp_instruc_salaries              exp_instruc_salaries           33807   \n",
            "exp_instruc_total                    exp_instruc_total           33798   \n",
            "\n",
            "                            Percentage Missing  \n",
            "exp_net_grant_aid_salaries          100.000000  \n",
            "exp_ind_op_total                     99.734642  \n",
            "income_tax_fed                       99.589446  \n",
            "income_tax_state                     99.546888  \n",
            "infrastructure                       97.844590  \n",
            "exp_research_salaries                97.061032  \n",
            "exp_research_total                   96.753117  \n",
            "exp_net_grant_aid_total              94.860562  \n",
            "income_net                           94.460021  \n",
            "exp_student_serv_salaries            86.196365  \n",
            "exp_inst_supp_salaries               85.790818  \n",
            "exp_student_serv_total               85.487909  \n",
            "exp_inst_supp_total                  84.969709  \n",
            "exp_instruc_salaries                 84.631753  \n",
            "exp_instruc_total                    84.609222  \n",
            "\n",
            "Analyzing missing data for Feature Group 4...\n",
            "\n",
            "Summary of missing data for Feature Group 4:\n",
            "                                          Variable  Missing Values  \\\n",
            "parent_child_allocation    parent_child_allocation           39603   \n",
            "intangible_assets_net        intangible_assets_net           39526   \n",
            "net_equity_beg_adjust        net_equity_beg_adjust           39383   \n",
            "parent_child_flag                parent_child_flag           38905   \n",
            "parent_child_system_flag  parent_child_system_flag           38905   \n",
            "longterm_investments          longterm_investments           38746   \n",
            "longterm_debt                        longterm_debt           38741   \n",
            "net_position_adjustments  net_position_adjustments           38609   \n",
            "net_pension_liability        net_pension_liability           38554   \n",
            "invest_capital_assets        invest_capital_assets           38444   \n",
            "net_position_change            net_position_change           38437   \n",
            "net_position_beginning      net_position_beginning           38436   \n",
            "net_position_end                  net_position_end           38436   \n",
            "land_improvements                land_improvements           36942   \n",
            "liabilities                            liabilities           36221   \n",
            "\n",
            "                          Percentage Missing  \n",
            "parent_child_allocation            99.141341  \n",
            "intangible_assets_net              98.948581  \n",
            "net_equity_beg_adjust              98.590597  \n",
            "parent_child_flag                  97.393982  \n",
            "parent_child_system_flag           97.393982  \n",
            "longterm_investments               96.995945  \n",
            "longterm_debt                      96.983428  \n",
            "net_position_adjustments           96.652982  \n",
            "net_pension_liability              96.515296  \n",
            "invest_capital_assets              96.239924  \n",
            "net_position_change                96.222400  \n",
            "net_position_beginning             96.219897  \n",
            "net_position_end                   96.219897  \n",
            "land_improvements                  92.479848  \n",
            "liabilities                        90.674911  \n",
            "\n",
            "Analyzing missing data for Feature Group 5...\n",
            "\n",
            "Summary of missing data for Feature Group 5:\n",
            "                                                        Variable  \\\n",
            "rev_endowment_income                        rev_endowment_income   \n",
            "rev_affiliated_entities                  rev_affiliated_entities   \n",
            "rev_endowment_additions                  rev_endowment_additions   \n",
            "rev_appropriations_fed                    rev_appropriations_fed   \n",
            "rev_appropriations_local                rev_appropriations_local   \n",
            "rev_capital_grants_gifts                rev_capital_grants_gifts   \n",
            "rev_capital_approps                          rev_capital_approps   \n",
            "rev_additions                                      rev_additions   \n",
            "pension_expense                                  pension_expense   \n",
            "rev_appropriations_state                rev_appropriations_state   \n",
            "rev_edu_services_sales                    rev_edu_services_sales   \n",
            "rev_auxiliary_enterprises_gross  rev_auxiliary_enterprises_gross   \n",
            "rev_auxiliary_enterprises_net      rev_auxiliary_enterprises_net   \n",
            "pell_grant_treatment                        pell_grant_treatment   \n",
            "parent_unitid                                      parent_unitid   \n",
            "\n",
            "                                 Missing Values  Percentage Missing  \n",
            "rev_endowment_income                      39946          100.000000  \n",
            "rev_affiliated_entities                   39689           99.356631  \n",
            "rev_endowment_additions                   39647           99.251490  \n",
            "rev_appropriations_fed                    39617           99.176388  \n",
            "rev_appropriations_local                  39204           98.142492  \n",
            "rev_capital_grants_gifts                  39173           98.064888  \n",
            "rev_capital_approps                       39063           97.789516  \n",
            "rev_additions                             38548           96.500275  \n",
            "pension_expense                           38536           96.470235  \n",
            "rev_appropriations_state                  38081           95.331197  \n",
            "rev_edu_services_sales                    37058           92.770240  \n",
            "rev_auxiliary_enterprises_gross           37028           92.695138  \n",
            "rev_auxiliary_enterprises_net             37001           92.627547  \n",
            "pell_grant_treatment                      35727           89.438242  \n",
            "parent_unitid                             33089           82.834326  \n",
            "\n",
            "Analyzing missing data for Feature Group 6...\n",
            "\n",
            "Summary of missing data for Feature Group 6:\n",
            "                                                  Variable  Missing Values  \\\n",
            "rev_hospital                                  rev_hospital           39861   \n",
            "rev_independent_operations      rev_independent_operations           39665   \n",
            "rev_other_additions                    rev_other_additions           39447   \n",
            "rev_other_nonoperating              rev_other_nonoperating           38922   \n",
            "rev_other_operating                    rev_other_operating           38467   \n",
            "rev_grants_contracts_local      rev_grants_contracts_local           38435   \n",
            "rev_operating                                rev_operating           37988   \n",
            "rev_nonoperating                          rev_nonoperating           37985   \n",
            "rev_grants_contracts_state      rev_grants_contracts_state           37410   \n",
            "rev_gifts_grants_contracts      rev_gifts_grants_contracts           37159   \n",
            "rev_grants_contracts_federal  rev_grants_contracts_federal           36670   \n",
            "rev_fed_approps_grants              rev_fed_approps_grants           36594   \n",
            "rev_investment_return                rev_investment_return           36221   \n",
            "rev_other                                        rev_other           36143   \n",
            "rev_hosp_ind_op_other                rev_hosp_ind_op_other           35987   \n",
            "\n",
            "                              Percentage Missing  \n",
            "rev_hospital                           99.787213  \n",
            "rev_independent_operations             99.296550  \n",
            "rev_other_additions                    98.750814  \n",
            "rev_other_nonoperating                 97.436539  \n",
            "rev_other_operating                    96.297502  \n",
            "rev_grants_contracts_local             96.217393  \n",
            "rev_operating                          95.098383  \n",
            "rev_nonoperating                       95.090873  \n",
            "rev_grants_contracts_state             93.651429  \n",
            "rev_gifts_grants_contracts             93.023081  \n",
            "rev_grants_contracts_federal           91.798929  \n",
            "rev_fed_approps_grants                 91.608672  \n",
            "rev_investment_return                  90.674911  \n",
            "rev_other                              90.479648  \n",
            "rev_hosp_ind_op_other                  90.089120  \n",
            "\n",
            "Analyzing missing data for Feature Group 7...\n",
            "\n",
            "Summary of missing data for Feature Group 7:\n",
            "                                                      Variable  \\\n",
            "sch_grants_private                          sch_grants_private   \n",
            "sch_grants_local                              sch_grants_local   \n",
            "sch_allowances_aux_enterp            sch_allowances_aux_enterp   \n",
            "sch_exp_net_fellowships                sch_exp_net_fellowships   \n",
            "sch_allowances_total                      sch_allowances_total   \n",
            "rev_state_local_approps_grants  rev_state_local_approps_grants   \n",
            "sch_grants_state                              sch_grants_state   \n",
            "sch_grants_state_local                  sch_grants_state_local   \n",
            "sch_allowances_tuition_fees        sch_allowances_tuition_fees   \n",
            "sch_grants_institutional              sch_grants_institutional   \n",
            "sch_other_federal_grants              sch_other_federal_grants   \n",
            "sch_pell_grant                                  sch_pell_grant   \n",
            "rev_tuition_fees_gross                  rev_tuition_fees_gross   \n",
            "rev_tuition_fees_net                      rev_tuition_fees_net   \n",
            "rev_total_current                            rev_total_current   \n",
            "\n",
            "                                Missing Values  Percentage Missing  \n",
            "sch_grants_private                       39946          100.000000  \n",
            "sch_grants_local                         39369           98.555550  \n",
            "sch_allowances_aux_enterp                38918           97.426526  \n",
            "sch_exp_net_fellowships                  38239           95.726731  \n",
            "sch_allowances_total                     38054           95.263606  \n",
            "rev_state_local_approps_grants           37146           92.990537  \n",
            "sch_grants_state                         36382           91.077955  \n",
            "sch_grants_state_local                   36242           90.727482  \n",
            "sch_allowances_tuition_fees              35994           90.106644  \n",
            "sch_grants_institutional                 35808           89.641015  \n",
            "sch_other_federal_grants                 35784           89.580934  \n",
            "sch_pell_grant                           34197           85.608071  \n",
            "rev_tuition_fees_gross                   33836           84.704351  \n",
            "rev_tuition_fees_net                     33816           84.654283  \n",
            "rev_total_current                        33758           84.509087  \n",
            "\n",
            "Analyzing missing data for Feature Group 8...\n",
            "\n",
            "Summary of missing data for Feature Group 8:\n",
            "                                                  Variable  Missing Values  \\\n",
            "sch_restricted_inst_grants      sch_restricted_inst_grants           37392   \n",
            "sch_unrestricted_inst_grants  sch_unrestricted_inst_grants           37266   \n",
            "sch_total_student_aid                sch_total_student_aid           33921   \n",
            "offering_highest_level              offering_highest_level             613   \n",
            "offering_undergrad                      offering_undergrad             613   \n",
            "offering_grad                                offering_grad             613   \n",
            "institution_level                        institution_level             611   \n",
            "inst_control                                  inst_control             611   \n",
            "state_abbr                                      state_abbr             392   \n",
            "state_abbr.1                                  state_abbr.1             392   \n",
            "state_abbr.2                                  state_abbr.2             392   \n",
            "state_abbr.3                                  state_abbr.3             392   \n",
            "region                                              region             392   \n",
            "title_iv_indicator                      title_iv_indicator             392   \n",
            "sector                                              sector             392   \n",
            "\n",
            "                              Percentage Missing  \n",
            "sch_restricted_inst_grants             93.606369  \n",
            "sch_unrestricted_inst_grants           93.290943  \n",
            "sch_total_student_aid                  84.917138  \n",
            "offering_highest_level                  1.534572  \n",
            "offering_undergrad                      1.534572  \n",
            "offering_grad                           1.534572  \n",
            "institution_level                       1.529565  \n",
            "inst_control                            1.529565  \n",
            "state_abbr                              0.981325  \n",
            "state_abbr.1                            0.981325  \n",
            "state_abbr.2                            0.981325  \n",
            "state_abbr.3                            0.981325  \n",
            "region                                  0.981325  \n",
            "title_iv_indicator                      0.981325  \n",
            "sector                                  0.981325  \n",
            "\n",
            "Analyzing missing data for Feature Group 9...\n",
            "\n"
          ]
        },
        {
          "output_type": "stream",
          "name": "stderr",
          "text": [
            "/usr/local/lib/python3.10/dist-packages/missingno/missingno.py:366: RuntimeWarning: More than 20 figures have been opened. Figures created through the pyplot interface (`matplotlib.pyplot.figure`) are retained until explicitly closed and may consume too much memory. (To control this warning, see the rcParam `figure.max_open_warning`). Consider using `matplotlib.pyplot.close()`.\n",
            "  plt.figure(figsize=figsize)\n"
          ]
        },
        {
          "output_type": "stream",
          "name": "stdout",
          "text": [
            "Summary of missing data for Feature Group 9:\n",
            "                                                      Variable  \\\n",
            "hospital                                              hospital   \n",
            "cc_basic_2000                                    cc_basic_2000   \n",
            "medical_degree                                  medical_degree   \n",
            "offering_highest_degree                offering_highest_degree   \n",
            "degree_granting                                degree_granting   \n",
            "urban_centric_locale                      urban_centric_locale   \n",
            "hbcu                                                      hbcu   \n",
            "tribal_college                                  tribal_college   \n",
            "open_public                                        open_public   \n",
            "open_public.1                                    open_public.1   \n",
            "inst_status                                        inst_status   \n",
            "year_deleted                                      year_deleted   \n",
            "currently_active_ipeds                  currently_active_ipeds   \n",
            "postsec_public_active                    postsec_public_active   \n",
            "postsec_public_active_title_iv  postsec_public_active_title_iv   \n",
            "\n",
            "                                Missing Values  Percentage Missing  \n",
            "hospital                                 22170           55.499925  \n",
            "cc_basic_2000                            21080           52.771241  \n",
            "medical_degree                            2015            5.044310  \n",
            "offering_highest_degree                    612            1.532068  \n",
            "degree_granting                            612            1.532068  \n",
            "urban_centric_locale                       410            1.026386  \n",
            "hbcu                                       392            0.981325  \n",
            "tribal_college                             392            0.981325  \n",
            "open_public                                392            0.981325  \n",
            "open_public.1                              392            0.981325  \n",
            "inst_status                                392            0.981325  \n",
            "year_deleted                               392            0.981325  \n",
            "currently_active_ipeds                     392            0.981325  \n",
            "postsec_public_active                      392            0.981325  \n",
            "postsec_public_active_title_iv             392            0.981325  \n"
          ]
        },
        {
          "output_type": "stream",
          "name": "stderr",
          "text": [
            "<ipython-input-11-de87b5b52827>:67: RuntimeWarning: More than 20 figures have been opened. Figures created through the pyplot interface (`matplotlib.pyplot.figure`) are retained until explicitly closed and may consume too much memory. (To control this warning, see the rcParam `figure.max_open_warning`). Consider using `matplotlib.pyplot.close()`.\n",
            "  fig, ax = plt.subplots(figsize=(12, len(summary_df) * 0.3))\n"
          ]
        },
        {
          "output_type": "stream",
          "name": "stdout",
          "text": [
            "\n",
            "Analyzing missing data for Feature Group 10...\n",
            "\n"
          ]
        },
        {
          "output_type": "stream",
          "name": "stderr",
          "text": [
            "<ipython-input-11-de87b5b52827>:41: RuntimeWarning: More than 20 figures have been opened. Figures created through the pyplot interface (`matplotlib.pyplot.figure`) are retained until explicitly closed and may consume too much memory. (To control this warning, see the rcParam `figure.max_open_warning`). Consider using `matplotlib.pyplot.close()`.\n",
            "  plt.figure(figsize=(12, 6))\n"
          ]
        },
        {
          "output_type": "stream",
          "name": "stdout",
          "text": [
            "Summary of missing data for Feature Group 10:\n",
            "                                            Variable  Missing Values  \\\n",
            "cc_instruc_undergrad_2015  cc_instruc_undergrad_2015           35529   \n",
            "cc_instruc_grad_2015            cc_instruc_grad_2015           35529   \n",
            "cc_undergrad_2015                  cc_undergrad_2015           35529   \n",
            "cc_enroll_2015                        cc_enroll_2015           35529   \n",
            "cc_size_setting_2015            cc_size_setting_2015           35529   \n",
            "cc_basic_2010                          cc_basic_2010           17926   \n",
            "cc_basic_2015                          cc_basic_2015           16284   \n",
            "land_grant                                land_grant           12692   \n",
            "comparison_group_custom      comparison_group_custom           10011   \n",
            "necta                                          necta            6648   \n",
            "cbsa_type                                  cbsa_type            2164   \n",
            "inst_size                                  inst_size            1895   \n",
            "reporting_method                    reporting_method            1883   \n",
            "inst_category                          inst_category            1832   \n",
            "inst_system_flag                    inst_system_flag            1416   \n",
            "\n",
            "                           Percentage Missing  \n",
            "cc_instruc_undergrad_2015           88.942572  \n",
            "cc_instruc_grad_2015                88.942572  \n",
            "cc_undergrad_2015                   88.942572  \n",
            "cc_enroll_2015                      88.942572  \n",
            "cc_size_setting_2015                88.942572  \n",
            "cc_basic_2010                       44.875582  \n",
            "cc_basic_2015                       40.765033  \n",
            "land_grant                          31.772893  \n",
            "comparison_group_custom             25.061333  \n",
            "necta                               16.642467  \n",
            "cbsa_type                            5.417313  \n",
            "inst_size                            4.743904  \n",
            "reporting_method                     4.713864  \n",
            "inst_category                        4.586191  \n",
            "inst_system_flag                     3.544785  \n",
            "\n",
            "Analyzing missing data for Feature Group 11...\n",
            "\n",
            "Summary of missing data for Feature Group 11:\n",
            "                                    Variable  Missing Values  \\\n",
            "percent_of_cohort          percent_of_cohort           38410   \n",
            "completers_100pct          completers_100pct           36626   \n",
            "percent_of_undergrads  percent_of_undergrads           35368   \n",
            "completers_150pct          completers_150pct           34343   \n",
            "living_arrangement        living_arrangement           34248   \n",
            "number_of_students        number_of_students           33832   \n",
            "percent_of_students      percent_of_students           33832   \n",
            "academic_rank                  academic_rank           31689   \n",
            "average_salary                average_salary           31689   \n",
            "avg_wgtd_mon_salary      avg_wgtd_mon_salary           31689   \n",
            "instruc_staff_count      instruc_staff_count           31689   \n",
            "completers                        completers            2871   \n",
            "race                                    race            2871   \n",
            "open_public.2                  open_public.2             392   \n",
            "open_public.3                  open_public.3             392   \n",
            "\n",
            "                       Percentage Missing  \n",
            "percent_of_cohort               96.154809  \n",
            "completers_100pct               91.688780  \n",
            "percent_of_undergrads           88.539528  \n",
            "completers_150pct               85.973564  \n",
            "living_arrangement              85.735743  \n",
            "number_of_students              84.694337  \n",
            "percent_of_students             84.694337  \n",
            "academic_rank                   79.329595  \n",
            "average_salary                  79.329595  \n",
            "avg_wgtd_mon_salary             79.329595  \n",
            "instruc_staff_count             79.329595  \n",
            "completers                       7.187203  \n",
            "race                             7.187203  \n",
            "open_public.2                    0.981325  \n",
            "open_public.3                    0.981325  \n",
            "\n",
            "Analyzing missing data for Feature Group 12...\n",
            "\n",
            "Summary of missing data for Feature Group 12:\n",
            "                                            Variable  Missing Values  \\\n",
            "completion_rate_150pct        completion_rate_150pct           35571   \n",
            "religious_affiliation          religious_affiliation           34487   \n",
            "primary_public_control        primary_public_control           27814   \n",
            "secondary_public_control    secondary_public_control           27814   \n",
            "cont_prof_prog_offered        cont_prof_prog_offered           22599   \n",
            "occupational_prog_offered  occupational_prog_offered            1453   \n",
            "academic_prog_offered          academic_prog_offered            1453   \n",
            "avocational_prog_offered    avocational_prog_offered            1453   \n",
            "remedial_prog_offered          remedial_prog_offered            1453   \n",
            "secondary_prog_offered        secondary_prog_offered            1453   \n",
            "inst_affiliation                    inst_affiliation            1453   \n",
            "cert_0_1_offered                    cert_0_1_offered            1453   \n",
            "cert_1_2_offered                    cert_1_2_offered            1453   \n",
            "assoc_offered                          assoc_offered            1453   \n",
            "cert_2_4_offered                    cert_2_4_offered            1453   \n",
            "\n",
            "                           Percentage Missing  \n",
            "completion_rate_150pct              89.047714  \n",
            "religious_affiliation               86.334051  \n",
            "primary_public_control              69.628999  \n",
            "secondary_public_control            69.628999  \n",
            "cont_prof_prog_offered              56.573875  \n",
            "occupational_prog_offered            3.637411  \n",
            "academic_prog_offered                3.637411  \n",
            "avocational_prog_offered             3.637411  \n",
            "remedial_prog_offered                3.637411  \n",
            "secondary_prog_offered               3.637411  \n",
            "inst_affiliation                     3.637411  \n",
            "cert_0_1_offered                     3.637411  \n",
            "cert_1_2_offered                     3.637411  \n",
            "assoc_offered                        3.637411  \n",
            "cert_2_4_offered                     3.637411  \n",
            "\n",
            "Analyzing missing data for Feature Group 13...\n",
            "\n",
            "Summary of missing data for Feature Group 13:\n",
            "                                                  Variable  Missing Values  \\\n",
            "bach_offered                                  bach_offered           12177   \n",
            "postbac_cert_offered                  postbac_cert_offered           12177   \n",
            "masters_offered                            masters_offered           12177   \n",
            "post_masters_cert_offered        post_masters_cert_offered           12177   \n",
            "doctors_research_offered          doctors_research_offered           12177   \n",
            "doctors_professional_offered  doctors_professional_offered           12177   \n",
            "doctors_other_offered                doctors_other_offered           12177   \n",
            "rotc                                                  rotc            1978   \n",
            "rotc_army                                        rotc_army            1978   \n",
            "rotc_navy                                        rotc_navy            1978   \n",
            "dual_credit                                    dual_credit            1961   \n",
            "credit_for_life                            credit_for_life            1961   \n",
            "ap_credit                                        ap_credit            1961   \n",
            "no_alt_credit                                no_alt_credit            1961   \n",
            "other_degree_offered                  other_degree_offered            1453   \n",
            "\n",
            "                              Percentage Missing  \n",
            "bach_offered                           30.483653  \n",
            "postbac_cert_offered                   30.483653  \n",
            "masters_offered                        30.483653  \n",
            "post_masters_cert_offered              30.483653  \n",
            "doctors_research_offered               30.483653  \n",
            "doctors_professional_offered           30.483653  \n",
            "doctors_other_offered                  30.483653  \n",
            "rotc                                    4.951685  \n",
            "rotc_army                               4.951685  \n",
            "rotc_navy                               4.951685  \n",
            "dual_credit                             4.909127  \n",
            "credit_for_life                         4.909127  \n",
            "ap_credit                               4.909127  \n",
            "no_alt_credit                           4.909127  \n",
            "other_degree_offered                    3.637411  \n",
            "\n",
            "Analyzing missing data for Feature Group 14...\n",
            "\n",
            "Summary of missing data for Feature Group 14:\n",
            "                                                Variable  Missing Values  \\\n",
            "teacher_cert                                teacher_cert           14735   \n",
            "teacher_cert_specialization  teacher_cert_specialization           14735   \n",
            "teacher_cert_other_inst          teacher_cert_other_inst           14735   \n",
            "teacher_cert_state_approved  teacher_cert_state_approved           14735   \n",
            "member_natl_athletic_assoc    member_natl_athletic_assoc           14731   \n",
            "remedial_services                      remedial_services            8011   \n",
            "rotc_airforce                              rotc_airforce            1978   \n",
            "study_abroad                                study_abroad            1978   \n",
            "weekend_evening_college          weekend_evening_college            1978   \n",
            "no_special_learning_opps        no_special_learning_opps            1978   \n",
            "academic_counseling                  academic_counseling            1961   \n",
            "employment_services                  employment_services            1961   \n",
            "placement_services                    placement_services            1961   \n",
            "oncampus_daycare                        oncampus_daycare            1961   \n",
            "no_selected_services                no_selected_services            1961   \n",
            "\n",
            "                             Percentage Missing  \n",
            "teacher_cert                          36.887298  \n",
            "teacher_cert_specialization           36.887298  \n",
            "teacher_cert_other_inst               36.887298  \n",
            "teacher_cert_state_approved           36.887298  \n",
            "member_natl_athletic_assoc            36.877284  \n",
            "remedial_services                     20.054574  \n",
            "rotc_airforce                          4.951685  \n",
            "study_abroad                           4.951685  \n",
            "weekend_evening_college                4.951685  \n",
            "no_special_learning_opps               4.951685  \n",
            "academic_counseling                    4.909127  \n",
            "employment_services                    4.909127  \n",
            "placement_services                     4.909127  \n",
            "oncampus_daycare                       4.909127  \n",
            "no_selected_services                   4.909127  \n",
            "\n",
            "Analyzing missing data for Feature Group 15...\n",
            "\n",
            "Summary of missing data for Feature Group 15:\n",
            "                                                        Variable  \\\n",
            "member_ncaa                                          member_ncaa   \n",
            "member_naia                                          member_naia   \n",
            "member_njcaa                                        member_njcaa   \n",
            "member_nscaa                                        member_nscaa   \n",
            "member_nccaa                                        member_nccaa   \n",
            "member_ath_assoc_other                    member_ath_assoc_other   \n",
            "member_conf_football                        member_conf_football   \n",
            "member_conf_basketball                    member_conf_basketball   \n",
            "member_conf_baseball                        member_conf_baseball   \n",
            "member_conf_track                              member_conf_track   \n",
            "calendar_system                                  calendar_system   \n",
            "enrolled_undergrad_fulltime          enrolled_undergrad_fulltime   \n",
            "enrolled_undergrad_firsttime_ft  enrolled_undergrad_firsttime_ft   \n",
            "enrolled_undergrad_parttime          enrolled_undergrad_parttime   \n",
            "enrolled_undergrad_firsttime_pt  enrolled_undergrad_firsttime_pt   \n",
            "\n",
            "                                 Missing Values  Percentage Missing  \n",
            "member_ncaa                               14731           36.877284  \n",
            "member_naia                               14731           36.877284  \n",
            "member_njcaa                              14731           36.877284  \n",
            "member_nscaa                              14731           36.877284  \n",
            "member_nccaa                              14731           36.877284  \n",
            "member_ath_assoc_other                    14731           36.877284  \n",
            "member_conf_football                      12643           31.650228  \n",
            "member_conf_basketball                    12643           31.650228  \n",
            "member_conf_baseball                      12643           31.650228  \n",
            "member_conf_track                         12643           31.650228  \n",
            "calendar_system                            1887            4.723877  \n",
            "enrolled_undergrad_fulltime                1887            4.723877  \n",
            "enrolled_undergrad_firsttime_ft            1887            4.723877  \n",
            "enrolled_undergrad_parttime                1887            4.723877  \n",
            "enrolled_undergrad_firsttime_pt            1887            4.723877  \n",
            "\n",
            "Analyzing missing data for Feature Group 16...\n",
            "\n",
            "Summary of missing data for Feature Group 16:\n",
            "                                                    Variable  Missing Values  \\\n",
            "enrolled_doctors_first_prof      enrolled_doctors_first_prof           35116   \n",
            "enrolled_doctors_professional  enrolled_doctors_professional           35115   \n",
            "enrolled_graduate_fulltime        enrolled_graduate_fulltime           17286   \n",
            "enrolled_graduate_parttime        enrolled_graduate_parttime           17286   \n",
            "tuition_varies                                tuition_varies           15874   \n",
            "oncampus_required                          oncampus_required            5014   \n",
            "disability_indicator                    disability_indicator            3791   \n",
            "oncampus_housing                            oncampus_housing            1961   \n",
            "meal_plan                                          meal_plan            1961   \n",
            "alt_tuition                                      alt_tuition            1961   \n",
            "tuition_guaranteed                        tuition_guaranteed            1961   \n",
            "prepaid_tuition                              prepaid_tuition            1961   \n",
            "tuition_payment_plan                    tuition_payment_plan            1961   \n",
            "other_alt_tuition                          other_alt_tuition            1961   \n",
            "dist_progs_all                                dist_progs_all            1961   \n",
            "\n",
            "                               Percentage Missing  \n",
            "enrolled_doctors_first_prof             87.908677  \n",
            "enrolled_doctors_professional           87.906173  \n",
            "enrolled_graduate_fulltime              43.273419  \n",
            "enrolled_graduate_parttime              43.273419  \n",
            "tuition_varies                          39.738647  \n",
            "oncampus_required                       12.551945  \n",
            "disability_indicator                     9.490312  \n",
            "oncampus_housing                         4.909127  \n",
            "meal_plan                                4.909127  \n",
            "alt_tuition                              4.909127  \n",
            "tuition_guaranteed                       4.909127  \n",
            "prepaid_tuition                          4.909127  \n",
            "tuition_payment_plan                     4.909127  \n",
            "other_alt_tuition                        4.909127  \n",
            "dist_progs_all                           4.909127  \n",
            "\n",
            "Analyzing missing data for Feature Group 17...\n",
            "\n",
            "Summary of missing data for Feature Group 17:\n",
            "                                                Variable  Missing Values  \\\n",
            "dist_grad_courses_offered      dist_grad_courses_offered           27130   \n",
            "dist_grad_courses_offered.1  dist_grad_courses_offered.1           27130   \n",
            "dist_grad_courses_offered.2  dist_grad_courses_offered.2           27130   \n",
            "dist_grad_courses_offered.3  dist_grad_courses_offered.3           27130   \n",
            "dist_grad_offered                      dist_grad_offered           27127   \n",
            "dist_ug_courses_offered          dist_ug_courses_offered            3694   \n",
            "dist_ug_courses_offered.1      dist_ug_courses_offered.1            3694   \n",
            "dist_ug_courses_offered.2      dist_ug_courses_offered.2            3694   \n",
            "dist_ug_courses_offered.3      dist_ug_courses_offered.3            3694   \n",
            "dist_ug_courses_offered.4      dist_ug_courses_offered.4            3694   \n",
            "dist_ug_courses_offered.5      dist_ug_courses_offered.5            3694   \n",
            "dist_ug_courses_offered.6      dist_ug_courses_offered.6            3694   \n",
            "dist_ug_courses_offered.7      dist_ug_courses_offered.7            3694   \n",
            "dist_ug_courses_offered.8      dist_ug_courses_offered.8            3694   \n",
            "yellow_ribbon_program              yellow_ribbon_program            1961   \n",
            "\n",
            "                             Percentage Missing  \n",
            "dist_grad_courses_offered             67.916688  \n",
            "dist_grad_courses_offered.1           67.916688  \n",
            "dist_grad_courses_offered.2           67.916688  \n",
            "dist_grad_courses_offered.3           67.916688  \n",
            "dist_grad_offered                     67.909177  \n",
            "dist_ug_courses_offered                9.247484  \n",
            "dist_ug_courses_offered.1              9.247484  \n",
            "dist_ug_courses_offered.2              9.247484  \n",
            "dist_ug_courses_offered.3              9.247484  \n",
            "dist_ug_courses_offered.4              9.247484  \n",
            "dist_ug_courses_offered.5              9.247484  \n",
            "dist_ug_courses_offered.6              9.247484  \n",
            "dist_ug_courses_offered.7              9.247484  \n",
            "dist_ug_courses_offered.8              9.247484  \n",
            "yellow_ribbon_program                  4.909127  \n",
            "\n",
            "Analyzing missing data for Feature Group 18...\n",
            "\n",
            "Summary of missing data for Feature Group 18:\n",
            "                                                  Variable  Missing Values  \\\n",
            "student_veteran_organization  student_veteran_organization            1961   \n",
            "no_vet_services                            no_vet_services            1961   \n",
            "library_physical                          library_physical            1961   \n",
            "library_printed_collection      library_printed_collection            1961   \n",
            "library_digital                            library_digital            1961   \n",
            "library_trained_staff                library_trained_staff            1961   \n",
            "library_hours                                library_hours            1961   \n",
            "library_shared                              library_shared            1961   \n",
            "no_library                                      no_library            1961   \n",
            "dist_courses_offered                  dist_courses_offered            1961   \n",
            "dist_ed_not_offered                    dist_ed_not_offered            1961   \n",
            "conf_number_baseball                  conf_number_baseball            1453   \n",
            "conf_number_basketball              conf_number_basketball            1453   \n",
            "conf_number_football                  conf_number_football            1453   \n",
            "conf_number_track                        conf_number_track            1453   \n",
            "\n",
            "                              Percentage Missing  \n",
            "student_veteran_organization            4.909127  \n",
            "no_vet_services                         4.909127  \n",
            "library_physical                        4.909127  \n",
            "library_printed_collection              4.909127  \n",
            "library_digital                         4.909127  \n",
            "library_trained_staff                   4.909127  \n",
            "library_hours                           4.909127  \n",
            "library_shared                          4.909127  \n",
            "no_library                              4.909127  \n",
            "dist_courses_offered                    4.909127  \n",
            "dist_ed_not_offered                     4.909127  \n",
            "conf_number_baseball                    3.637411  \n",
            "conf_number_basketball                  3.637411  \n",
            "conf_number_football                    3.637411  \n",
            "conf_number_track                       3.637411  \n",
            "\n",
            "Analyzing missing data for Feature Group 19...\n",
            "\n",
            "Summary of missing data for Feature Group 19:\n",
            "                                          Variable  Missing Values  \\\n",
            "room_board_charge                room_board_charge           37356   \n",
            "rotc_navy_marinecorps        rotc_navy_marinecorps           33896   \n",
            "undergrad_research              undergrad_research           33896   \n",
            "meals_per_week                      meals_per_week           33376   \n",
            "dormitory_capacity              dormitory_capacity           27205   \n",
            "dist_grad_not_offered        dist_grad_not_offered           27130   \n",
            "dist_grad_progs_offered    dist_grad_progs_offered           27130   \n",
            "electronic_books                  electronic_books           24711   \n",
            "electronic_databases          electronic_databases           24711   \n",
            "electronic_media                  electronic_media           24711   \n",
            "dist_ug_not_offered            dist_ug_not_offered            3694   \n",
            "dist_ug_offered                    dist_ug_offered            3694   \n",
            "dist_ug_progs_offered        dist_ug_progs_offered            3694   \n",
            "dist_progs_offered              dist_progs_offered            1961   \n",
            "military_training_credit  military_training_credit            1961   \n",
            "\n",
            "                          Percentage Missing  \n",
            "room_board_charge                  93.516247  \n",
            "rotc_navy_marinecorps              84.854554  \n",
            "undergrad_research                 84.854554  \n",
            "meals_per_week                     83.552796  \n",
            "dormitory_capacity                 68.104441  \n",
            "dist_grad_not_offered              67.916688  \n",
            "dist_grad_progs_offered            67.916688  \n",
            "electronic_books                   61.861012  \n",
            "electronic_databases               61.861012  \n",
            "electronic_media                   61.861012  \n",
            "dist_ug_not_offered                 9.247484  \n",
            "dist_ug_offered                     9.247484  \n",
            "dist_ug_progs_offered               9.247484  \n",
            "dist_progs_offered                  4.909127  \n",
            "military_training_credit            4.909127  \n",
            "\n",
            "Analyzing missing data for Feature Group 20...\n",
            "\n",
            "Summary of missing data for Feature Group 20:\n",
            "                                                    Variable  Missing Values  \\\n",
            "average_grant                                  average_grant           35134   \n",
            "number_receiving_grants              number_receiving_grants           35125   \n",
            "award_bach_4yr                                award_bach_4yr           34679   \n",
            "income_level                                    income_level           34248   \n",
            "award_assoc_4yr                              award_assoc_4yr           32409   \n",
            "award_cert_4yr                                award_cert_4yr           32409   \n",
            "completers_4yr                                completers_4yr           32409   \n",
            "completion_rate_4yr                      completion_rate_4yr           32409   \n",
            "exp_fringe_benefits                      exp_fringe_benefits           28399   \n",
            "exp_sal_wages_from_lib_budget  exp_sal_wages_from_lib_budget           28399   \n",
            "interlibrary_loans_provided      interlibrary_loans_provided           27859   \n",
            "interlibrary_loans_received      interlibrary_loans_received           27859   \n",
            "electronic_serials                        electronic_serials           24711   \n",
            "interlibrary_loan_services        interlibrary_loan_services           24711   \n",
            "open_admissions_policy                open_admissions_policy            4662   \n",
            "\n",
            "                               Percentage Missing  \n",
            "average_grant                           87.953738  \n",
            "number_receiving_grants                 87.931207  \n",
            "award_bach_4yr                          86.814700  \n",
            "income_level                            85.735743  \n",
            "award_assoc_4yr                         81.132028  \n",
            "award_cert_4yr                          81.132028  \n",
            "completers_4yr                          81.132028  \n",
            "completion_rate_4yr                     81.132028  \n",
            "exp_fringe_benefits                     71.093476  \n",
            "exp_sal_wages_from_lib_budget           71.093476  \n",
            "interlibrary_loans_provided             69.741651  \n",
            "interlibrary_loans_received             69.741651  \n",
            "electronic_serials                      61.861012  \n",
            "interlibrary_loan_services              61.861012  \n",
            "open_admissions_policy                  11.670756  \n",
            "\n",
            "Analyzing missing data for Feature Group 21...\n",
            "\n",
            "Summary of missing data for Feature Group 21:\n",
            "                                        Variable  Missing Values  \\\n",
            "tuition_fees                        tuition_fees           30431   \n",
            "books_supplies                    books_supplies           30431   \n",
            "program_length_hours        program_length_hours           30431   \n",
            "contact_or_credit_hours  contact_or_credit_hours           30431   \n",
            "reqt_hs_gpa                          reqt_hs_gpa           27860   \n",
            "reqt_hs_record                    reqt_hs_record           27860   \n",
            "reqt_college_prep              reqt_college_prep           27860   \n",
            "reqt_recommendations        reqt_recommendations           27860   \n",
            "reqt_competencies              reqt_competencies           27860   \n",
            "reqt_test_scores                reqt_test_scores           27860   \n",
            "reqt_toefl                            reqt_toefl           27860   \n",
            "reqt_other_test                  reqt_other_test           27860   \n",
            "years_college_reqd            years_college_reqd            1453   \n",
            "\n",
            "                         Percentage Missing  \n",
            "tuition_fees                      76.180343  \n",
            "books_supplies                    76.180343  \n",
            "program_length_hours              76.180343  \n",
            "contact_or_credit_hours           76.180343  \n",
            "reqt_hs_gpa                       69.744155  \n",
            "reqt_hs_record                    69.744155  \n",
            "reqt_college_prep                 69.744155  \n",
            "reqt_recommendations              69.744155  \n",
            "reqt_competencies                 69.744155  \n",
            "reqt_test_scores                  69.744155  \n",
            "reqt_toefl                        69.744155  \n",
            "reqt_other_test                   69.744155  \n",
            "years_college_reqd                 3.637411  \n"
          ]
        },
        {
          "output_type": "display_data",
          "data": {
            "text/plain": [
              "<IPython.core.display.Javascript object>"
            ],
            "application/javascript": [
              "\n",
              "    async function download(id, filename, size) {\n",
              "      if (!google.colab.kernel.accessAllowed) {\n",
              "        return;\n",
              "      }\n",
              "      const div = document.createElement('div');\n",
              "      const label = document.createElement('label');\n",
              "      label.textContent = `Downloading \"${filename}\": `;\n",
              "      div.appendChild(label);\n",
              "      const progress = document.createElement('progress');\n",
              "      progress.max = size;\n",
              "      div.appendChild(progress);\n",
              "      document.body.appendChild(div);\n",
              "\n",
              "      const buffers = [];\n",
              "      let downloaded = 0;\n",
              "\n",
              "      const channel = await google.colab.kernel.comms.open(id);\n",
              "      // Send a message to notify the kernel that we're ready.\n",
              "      channel.send({})\n",
              "\n",
              "      for await (const message of channel.messages) {\n",
              "        // Send a message to notify the kernel that we're ready.\n",
              "        channel.send({})\n",
              "        if (message.buffers) {\n",
              "          for (const buffer of message.buffers) {\n",
              "            buffers.push(buffer);\n",
              "            downloaded += buffer.byteLength;\n",
              "            progress.value = downloaded;\n",
              "          }\n",
              "        }\n",
              "      }\n",
              "      const blob = new Blob(buffers, {type: 'application/binary'});\n",
              "      const a = document.createElement('a');\n",
              "      a.href = window.URL.createObjectURL(blob);\n",
              "      a.download = filename;\n",
              "      div.appendChild(a);\n",
              "      a.click();\n",
              "      div.remove();\n",
              "    }\n",
              "  "
            ]
          },
          "metadata": {}
        },
        {
          "output_type": "display_data",
          "data": {
            "text/plain": [
              "<IPython.core.display.Javascript object>"
            ],
            "application/javascript": [
              "download(\"download_de2c23c6-ec49-455e-9b46-b22326a5ec23\", \"Missing_Data_Analysis.pdf\", 2620771)"
            ]
          },
          "metadata": {}
        },
        {
          "output_type": "stream",
          "name": "stdout",
          "text": [
            "Missing Data Analysis saved to Missing_Data_Analysis.pdf and downloaded.\n"
          ]
        },
        {
          "output_type": "display_data",
          "data": {
            "text/plain": [
              "<Figure size 1800x800 with 0 Axes>"
            ]
          },
          "metadata": {}
        },
        {
          "output_type": "display_data",
          "data": {
            "text/plain": [
              "<Figure size 1800x800 with 0 Axes>"
            ]
          },
          "metadata": {}
        },
        {
          "output_type": "display_data",
          "data": {
            "text/plain": [
              "<Figure size 1200x600 with 0 Axes>"
            ]
          },
          "metadata": {}
        },
        {
          "output_type": "display_data",
          "data": {
            "text/plain": [
              "<Figure size 1000x600 with 0 Axes>"
            ]
          },
          "metadata": {}
        },
        {
          "output_type": "display_data",
          "data": {
            "text/plain": [
              "<Figure size 1200x600 with 0 Axes>"
            ]
          },
          "metadata": {}
        },
        {
          "output_type": "display_data",
          "data": {
            "text/plain": [
              "<Figure size 1000x600 with 0 Axes>"
            ]
          },
          "metadata": {}
        },
        {
          "output_type": "display_data",
          "data": {
            "text/plain": [
              "<Figure size 1200x600 with 0 Axes>"
            ]
          },
          "metadata": {}
        },
        {
          "output_type": "display_data",
          "data": {
            "text/plain": [
              "<Figure size 1000x600 with 0 Axes>"
            ]
          },
          "metadata": {}
        },
        {
          "output_type": "display_data",
          "data": {
            "text/plain": [
              "<Figure size 1200x600 with 0 Axes>"
            ]
          },
          "metadata": {}
        },
        {
          "output_type": "display_data",
          "data": {
            "text/plain": [
              "<Figure size 1000x600 with 0 Axes>"
            ]
          },
          "metadata": {}
        },
        {
          "output_type": "display_data",
          "data": {
            "text/plain": [
              "<Figure size 1200x600 with 0 Axes>"
            ]
          },
          "metadata": {}
        },
        {
          "output_type": "display_data",
          "data": {
            "text/plain": [
              "<Figure size 1000x600 with 0 Axes>"
            ]
          },
          "metadata": {}
        },
        {
          "output_type": "display_data",
          "data": {
            "text/plain": [
              "<Figure size 1200x600 with 0 Axes>"
            ]
          },
          "metadata": {}
        },
        {
          "output_type": "display_data",
          "data": {
            "text/plain": [
              "<Figure size 1000x600 with 0 Axes>"
            ]
          },
          "metadata": {}
        },
        {
          "output_type": "display_data",
          "data": {
            "text/plain": [
              "<Figure size 1200x600 with 0 Axes>"
            ]
          },
          "metadata": {}
        },
        {
          "output_type": "display_data",
          "data": {
            "text/plain": [
              "<Figure size 1000x600 with 0 Axes>"
            ]
          },
          "metadata": {}
        },
        {
          "output_type": "display_data",
          "data": {
            "text/plain": [
              "<Figure size 1200x600 with 0 Axes>"
            ]
          },
          "metadata": {}
        },
        {
          "output_type": "display_data",
          "data": {
            "text/plain": [
              "<Figure size 1000x600 with 0 Axes>"
            ]
          },
          "metadata": {}
        },
        {
          "output_type": "display_data",
          "data": {
            "text/plain": [
              "<Figure size 1200x600 with 0 Axes>"
            ]
          },
          "metadata": {}
        },
        {
          "output_type": "display_data",
          "data": {
            "text/plain": [
              "<Figure size 1000x600 with 0 Axes>"
            ]
          },
          "metadata": {}
        },
        {
          "output_type": "display_data",
          "data": {
            "text/plain": [
              "<Figure size 1200x600 with 0 Axes>"
            ]
          },
          "metadata": {}
        },
        {
          "output_type": "display_data",
          "data": {
            "text/plain": [
              "<Figure size 1000x600 with 0 Axes>"
            ]
          },
          "metadata": {}
        },
        {
          "output_type": "display_data",
          "data": {
            "text/plain": [
              "<Figure size 1200x600 with 0 Axes>"
            ]
          },
          "metadata": {}
        },
        {
          "output_type": "display_data",
          "data": {
            "text/plain": [
              "<Figure size 1000x600 with 0 Axes>"
            ]
          },
          "metadata": {}
        },
        {
          "output_type": "display_data",
          "data": {
            "text/plain": [
              "<Figure size 1200x600 with 0 Axes>"
            ]
          },
          "metadata": {}
        },
        {
          "output_type": "display_data",
          "data": {
            "text/plain": [
              "<Figure size 1000x600 with 0 Axes>"
            ]
          },
          "metadata": {}
        },
        {
          "output_type": "display_data",
          "data": {
            "text/plain": [
              "<Figure size 1200x600 with 0 Axes>"
            ]
          },
          "metadata": {}
        },
        {
          "output_type": "display_data",
          "data": {
            "text/plain": [
              "<Figure size 1000x600 with 0 Axes>"
            ]
          },
          "metadata": {}
        },
        {
          "output_type": "display_data",
          "data": {
            "text/plain": [
              "<Figure size 1200x600 with 0 Axes>"
            ]
          },
          "metadata": {}
        },
        {
          "output_type": "display_data",
          "data": {
            "text/plain": [
              "<Figure size 1000x600 with 0 Axes>"
            ]
          },
          "metadata": {}
        },
        {
          "output_type": "display_data",
          "data": {
            "text/plain": [
              "<Figure size 1200x600 with 0 Axes>"
            ]
          },
          "metadata": {}
        },
        {
          "output_type": "display_data",
          "data": {
            "text/plain": [
              "<Figure size 1000x600 with 0 Axes>"
            ]
          },
          "metadata": {}
        },
        {
          "output_type": "display_data",
          "data": {
            "text/plain": [
              "<Figure size 1200x600 with 0 Axes>"
            ]
          },
          "metadata": {}
        },
        {
          "output_type": "display_data",
          "data": {
            "text/plain": [
              "<Figure size 1000x600 with 0 Axes>"
            ]
          },
          "metadata": {}
        },
        {
          "output_type": "display_data",
          "data": {
            "text/plain": [
              "<Figure size 1200x600 with 0 Axes>"
            ]
          },
          "metadata": {}
        },
        {
          "output_type": "display_data",
          "data": {
            "text/plain": [
              "<Figure size 1000x600 with 0 Axes>"
            ]
          },
          "metadata": {}
        },
        {
          "output_type": "display_data",
          "data": {
            "text/plain": [
              "<Figure size 1200x600 with 0 Axes>"
            ]
          },
          "metadata": {}
        },
        {
          "output_type": "display_data",
          "data": {
            "text/plain": [
              "<Figure size 1000x600 with 0 Axes>"
            ]
          },
          "metadata": {}
        },
        {
          "output_type": "display_data",
          "data": {
            "text/plain": [
              "<Figure size 1200x600 with 0 Axes>"
            ]
          },
          "metadata": {}
        },
        {
          "output_type": "display_data",
          "data": {
            "text/plain": [
              "<Figure size 1000x600 with 0 Axes>"
            ]
          },
          "metadata": {}
        },
        {
          "output_type": "display_data",
          "data": {
            "text/plain": [
              "<Figure size 1200x600 with 0 Axes>"
            ]
          },
          "metadata": {}
        },
        {
          "output_type": "display_data",
          "data": {
            "text/plain": [
              "<Figure size 1000x600 with 0 Axes>"
            ]
          },
          "metadata": {}
        },
        {
          "output_type": "display_data",
          "data": {
            "text/plain": [
              "<Figure size 1200x600 with 0 Axes>"
            ]
          },
          "metadata": {}
        },
        {
          "output_type": "display_data",
          "data": {
            "text/plain": [
              "<Figure size 1000x600 with 0 Axes>"
            ]
          },
          "metadata": {}
        }
      ]
    },
    {
      "cell_type": "markdown",
      "source": [
        "# Step 3"
      ],
      "metadata": {
        "id": "hUlZQgiw4WPx"
      }
    },
    {
      "cell_type": "code",
      "source": [
        "!pip install scikit-learn\n",
        "!pip install tableone"
      ],
      "metadata": {
        "colab": {
          "base_uri": "https://localhost:8080/"
        },
        "id": "XJwCvP40_ZOD",
        "outputId": "20e009c4-3067-4f3c-b590-adce104ba7e1"
      },
      "execution_count": null,
      "outputs": [
        {
          "output_type": "stream",
          "name": "stdout",
          "text": [
            "Requirement already satisfied: scikit-learn in /usr/local/lib/python3.10/dist-packages (1.5.2)\n",
            "Requirement already satisfied: numpy>=1.19.5 in /usr/local/lib/python3.10/dist-packages (from scikit-learn) (1.26.4)\n",
            "Requirement already satisfied: scipy>=1.6.0 in /usr/local/lib/python3.10/dist-packages (from scikit-learn) (1.13.1)\n",
            "Requirement already satisfied: joblib>=1.2.0 in /usr/local/lib/python3.10/dist-packages (from scikit-learn) (1.4.2)\n",
            "Requirement already satisfied: threadpoolctl>=3.1.0 in /usr/local/lib/python3.10/dist-packages (from scikit-learn) (3.5.0)\n"
          ]
        }
      ]
    },
    {
      "cell_type": "code",
      "source": [
        "from sklearn.experimental import enable_iterative_imputer\n",
        "from sklearn.impute import IterativeImputer\n",
        "import pandas as pd\n",
        "import numpy as np\n",
        "from matplotlib.backends.backend_pdf import PdfPages\n",
        "import matplotlib.pyplot as plt\n",
        "\n",
        "columns_to_include = [\n",
        "    'offering_highest_level', 'land_grant', 'inst_control', 'offering_undergrad',\n",
        "    'offering_grad', 'urban_centric_locale', 'region', 'title_iv_indicator',\n",
        "    'tribal_college', 'sector', 'hbcu', 'inst_size', 'number_enrolled_pt',\n",
        "    'number_enrolled_ft', 'number_enrolled_total', 'number_admitted', 'number_applied',\n",
        "    'living_arrangement', 'number_of_students', 'percent_of_students', 'academic_rank',\n",
        "    'average_salary', 'avg_wgtd_mon_salary', 'instruc_staff_count', 'completers', 'race'\n",
        "]\n",
        "available_columns = [col for col in columns_to_include if col in merged_data.columns]\n",
        "data_to_impute = merged_data[available_columns]\n",
        "\n",
        "categorical_cols = [col for col in available_columns if col in [\n",
        "    'offering_highest_level', 'land_grant', 'inst_control', 'offering_undergrad',\n",
        "    'offering_grad', 'urban_centric_locale', 'region', 'title_iv_indicator',\n",
        "    'tribal_college', 'sector', 'hbcu', 'inst_size', 'living_arrangement', 'race', 'academic_rank'\n",
        "]]\n",
        "numerical_cols = list(set(available_columns) - set(categorical_cols))\n",
        "\n",
        "data_encoded = data_to_impute.copy()\n",
        "for col in categorical_cols:\n",
        "    if data_encoded[col].dtype == 'object' or str(data_encoded[col].dtype) == 'category':\n",
        "        data_encoded[col] = data_encoded[col].astype('category').cat.codes\n",
        "\n",
        "skewed_cols = ['number_enrolled_pt', 'number_enrolled_ft', 'number_enrolled_total', 'number_admitted', 'average_salary']\n",
        "for col in skewed_cols:\n",
        "    if col in data_encoded.columns:\n",
        "        data_encoded[col] = np.log1p(data_encoded[col].clip(lower=0))\n",
        "\n",
        "mice_imputer = IterativeImputer(max_iter=10, random_state=0)\n",
        "imputed_array = mice_imputer.fit_transform(data_encoded)\n",
        "\n",
        "imputed_data = pd.DataFrame(imputed_array, columns=available_columns)\n",
        "\n",
        "for col in skewed_cols:\n",
        "    if col in imputed_data.columns:\n",
        "        imputed_data[col] = np.expm1(imputed_data[col])\n",
        "\n",
        "imputed_data['number_enrolled_pt'] = imputed_data['number_enrolled_pt'].clip(lower=0, upper=1e6)\n",
        "imputed_data['number_admitted'] = imputed_data['number_admitted'].clip(lower=0, upper=1e6)\n",
        "\n",
        "summary_stats = []\n",
        "for col in imputed_data.columns:\n",
        "    col_data = imputed_data[col]\n",
        "    if col in categorical_cols:\n",
        "        mean_value = f\"{(col_data.value_counts(normalize=True).max() * 100):.1f}%\"\n",
        "        min_value, max_value, std_value = \"-\", \"-\", \"-\"\n",
        "    else:\n",
        "        mean_value = f\"{col_data.mean():,.2f}\"\n",
        "        min_value = f\"{col_data.min():,.2f}\"\n",
        "        max_value = f\"{col_data.max():,.2f}\"\n",
        "        std_value = f\"{col_data.std():,.2f}\"\n",
        "    summary_stats.append([col, mean_value, min_value, max_value, std_value])\n",
        "\n",
        "summary_df = pd.DataFrame(summary_stats, columns=[\"Characteristic\", \"Mean or %\", \"Minimum\", \"Maximum\", \"SD\"])\n",
        "\n",
        "with PdfPages(\"Summary_Table.pdf\") as pdf:\n",
        "    fig, ax = plt.subplots(figsize=(12, len(summary_df) * 0.3))\n",
        "    ax.axis(\"tight\")\n",
        "    ax.axis(\"off\")\n",
        "    ax.table(cellText=summary_df.values,\n",
        "             colLabels=summary_df.columns,\n",
        "             cellLoc=\"center\",\n",
        "             loc=\"center\")\n",
        "    plt.title(\"Summary Table (MICE Imputed Data)\", fontsize=14)\n",
        "    pdf.savefig(fig)\n",
        "    plt.close(fig)\n",
        "\n",
        "from google.colab import files\n",
        "files.download(\"Summary_Table.pdf\")\n",
        "\n",
        "print(\"Improved Summary Table created and downloaded as Summary_Table.pdf.\")"
      ],
      "metadata": {
        "colab": {
          "base_uri": "https://localhost:8080/",
          "height": 89
        },
        "id": "amTjKNOTCXqf",
        "outputId": "47d8aa72-ffc4-4971-a9e4-a7e9254ea08b"
      },
      "execution_count": null,
      "outputs": [
        {
          "output_type": "stream",
          "name": "stderr",
          "text": [
            "/usr/local/lib/python3.10/dist-packages/sklearn/impute/_iterative.py:825: ConvergenceWarning: [IterativeImputer] Early stopping criterion not reached.\n",
            "  warnings.warn(\n"
          ]
        },
        {
          "output_type": "display_data",
          "data": {
            "text/plain": [
              "<IPython.core.display.Javascript object>"
            ],
            "application/javascript": [
              "\n",
              "    async function download(id, filename, size) {\n",
              "      if (!google.colab.kernel.accessAllowed) {\n",
              "        return;\n",
              "      }\n",
              "      const div = document.createElement('div');\n",
              "      const label = document.createElement('label');\n",
              "      label.textContent = `Downloading \"${filename}\": `;\n",
              "      div.appendChild(label);\n",
              "      const progress = document.createElement('progress');\n",
              "      progress.max = size;\n",
              "      div.appendChild(progress);\n",
              "      document.body.appendChild(div);\n",
              "\n",
              "      const buffers = [];\n",
              "      let downloaded = 0;\n",
              "\n",
              "      const channel = await google.colab.kernel.comms.open(id);\n",
              "      // Send a message to notify the kernel that we're ready.\n",
              "      channel.send({})\n",
              "\n",
              "      for await (const message of channel.messages) {\n",
              "        // Send a message to notify the kernel that we're ready.\n",
              "        channel.send({})\n",
              "        if (message.buffers) {\n",
              "          for (const buffer of message.buffers) {\n",
              "            buffers.push(buffer);\n",
              "            downloaded += buffer.byteLength;\n",
              "            progress.value = downloaded;\n",
              "          }\n",
              "        }\n",
              "      }\n",
              "      const blob = new Blob(buffers, {type: 'application/binary'});\n",
              "      const a = document.createElement('a');\n",
              "      a.href = window.URL.createObjectURL(blob);\n",
              "      a.download = filename;\n",
              "      div.appendChild(a);\n",
              "      a.click();\n",
              "      div.remove();\n",
              "    }\n",
              "  "
            ]
          },
          "metadata": {}
        },
        {
          "output_type": "display_data",
          "data": {
            "text/plain": [
              "<IPython.core.display.Javascript object>"
            ],
            "application/javascript": [
              "download(\"download_a39183a8-9e17-4e03-ba0b-237afc4d039e\", \"Summary_Table.pdf\", 20065)"
            ]
          },
          "metadata": {}
        },
        {
          "output_type": "stream",
          "name": "stdout",
          "text": [
            "Improved Summary Table created and downloaded as Summary_Table.pdf.\n"
          ]
        }
      ]
    }
  ]
}