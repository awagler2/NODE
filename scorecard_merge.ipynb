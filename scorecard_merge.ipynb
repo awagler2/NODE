{
  "nbformat": 4,
  "nbformat_minor": 0,
  "metadata": {
    "colab": {
      "provenance": [],
      "gpuType": "V28",
      "authorship_tag": "ABX9TyOGEEMDkA7U/8uPJBgDPbVo",
      "include_colab_link": true
    },
    "kernelspec": {
      "name": "python3",
      "display_name": "Python 3"
    },
    "language_info": {
      "name": "python"
    },
    "accelerator": "TPU"
  },
  "cells": [
    {
      "cell_type": "markdown",
      "metadata": {
        "id": "view-in-github",
        "colab_type": "text"
      },
      "source": [
        "<a href=\"https://colab.research.google.com/github/awagler2/NODE/blob/main/scorecard_merge.ipynb\" target=\"_parent\"><img src=\"https://colab.research.google.com/assets/colab-badge.svg\" alt=\"Open In Colab\"/></a>"
      ]
    },
    {
      "source": [
        "import pandas as pd\n",
        "\n",
        "# Load the datasets\n",
        "df_imputed = pd.read_csv('full_imputed_final.csv')\n",
        "fos19 = pd.read_csv('FieldOfStudyData1718_1819_PP.csv')\n",
        "fos20 = pd.read_csv('FieldOfStudyData1819_1920_PP.csv')\n",
        "fos21 = pd.read_csv('FieldOfStudyData1920_2021_PP.csv')\n",
        "hrsu=pd.read_csv('HRSU.csv')"
      ],
      "cell_type": "code",
      "metadata": {
        "colab": {
          "base_uri": "https://localhost:8080/"
        },
        "id": "GtfswB9h2tQA",
        "outputId": "b1da5ea8-b695-4ccb-b057-7b5bc5987012"
      },
      "execution_count": 5,
      "outputs": [
        {
          "output_type": "stream",
          "name": "stderr",
          "text": [
            "<ipython-input-5-d3725dfcdb18>:4: DtypeWarning: Columns (26,29,30,501,502) have mixed types. Specify dtype option on import or set low_memory=False.\n",
            "  df_imputed = pd.read_csv('full_imputed_final.csv')\n"
          ]
        }
      ]
    },
    {
      "cell_type": "code",
      "source": [
        "print(fos19['UNITID'].value_counts())\n",
        "print(fos20['UNITID'].value_counts())\n",
        "print(fos21['UNITID'].value_counts())"
      ],
      "metadata": {
        "colab": {
          "base_uri": "https://localhost:8080/"
        },
        "id": "hblO-NpCpu6q",
        "outputId": "f91cb62c-8f79-47ff-97fc-b0ef7f42bb47"
      },
      "execution_count": 11,
      "outputs": [
        {
          "output_type": "stream",
          "name": "stdout",
          "text": [
            "UNITID\n",
            "214777.0    536\n",
            "201885.0    463\n",
            "193900.0    453\n",
            "174066.0    445\n",
            "215293.0    430\n",
            "           ... \n",
            "493567.0      1\n",
            "493576.0      1\n",
            "493585.0      1\n",
            "493600.0      1\n",
            "493628.0      1\n",
            "Name: count, Length: 6689, dtype: int64\n",
            "UNITID\n",
            "495767.0    553\n",
            "214777.0    523\n",
            "201885.0    472\n",
            "174066.0    449\n",
            "104151.0    440\n",
            "           ... \n",
            "496052.0      1\n",
            "496292.0      1\n",
            "451237.0      1\n",
            "451255.0      1\n",
            "451282.0      1\n",
            "Name: count, Length: 6419, dtype: int64\n",
            "UNITID\n",
            "495767.0    551\n",
            "201885.0    474\n",
            "104151.0    467\n",
            "104179.0    439\n",
            "174066.0    436\n",
            "           ... \n",
            "451167.0      1\n",
            "451194.0      1\n",
            "451237.0      1\n",
            "451255.0      1\n",
            "451282.0      1\n",
            "Name: count, Length: 6255, dtype: int64\n"
          ]
        }
      ]
    },
    {
      "cell_type": "code",
      "source": [
        "# Reshape fos19 to wide format\n",
        "fos19w = fos19.pivot_table(index='UNITID', columns='CIPCODE', values='IPEDSCOUNT2')\n",
        "fos20w = fos20.pivot_table(index='UNITID', columns='CIPCODE', values='IPEDSCOUNT2')\n",
        "fos21w = fos21.pivot_table(index='UNITID', columns='CIPCODE', values='IPEDSCOUNT2')\n",
        "# Display the first few rows of the restructured dataframe\n",
        "\n",
        "print(fos19w.shape)\n",
        "print(fos20w.shape)\n",
        "fos21w.shape"
      ],
      "metadata": {
        "colab": {
          "base_uri": "https://localhost:8080/"
        },
        "id": "UAa7qACamPiJ",
        "outputId": "016e2db1-1704-4088-ffd7-987240ada345"
      },
      "execution_count": 16,
      "outputs": [
        {
          "output_type": "stream",
          "name": "stdout",
          "text": [
            "(6255, 368)\n",
            "(6158, 397)\n"
          ]
        },
        {
          "output_type": "execute_result",
          "data": {
            "text/plain": [
              "(6072, 399)"
            ]
          },
          "metadata": {},
          "execution_count": 16
        }
      ]
    },
    {
      "cell_type": "code",
      "source": [
        "# Merge the dataframes on the 'UNITID' column\n",
        "merged_df = pd.merge(df_imputed, fos19, left_on='unitid',right_on='UNITID')\n",
        "print(merged_df.columns)\n",
        "print(df_imputed.shape)\n",
        "print(fos19.shape)\n",
        "print(merged_df.shape)\n",
        "merged_df['UNITID'].value_counts"
      ],
      "metadata": {
        "colab": {
          "base_uri": "https://localhost:8080/",
          "height": 412
        },
        "id": "r2uNjWJ8o7x1",
        "outputId": "40ffb71b-0f22-4311-bd17-52e57b6c48bf"
      },
      "execution_count": 34,
      "outputs": [
        {
          "output_type": "stream",
          "name": "stdout",
          "text": [
            "Index(['row_number', 'unitid', 'year_x', 'inst_name', 'longitude', 'latitude',\n",
            "       'address', 'state_abbr', 'zip', 'phone_number',\n",
            "       ...\n",
            "       'EARN_COUNT_PELL_WNE_5YR', 'EARN_PELL_WNE_MDN_5YR',\n",
            "       'EARN_COUNT_NOPELL_WNE_5YR', 'EARN_NOPELL_WNE_MDN_5YR',\n",
            "       'EARN_COUNT_MALE_WNE_5YR', 'EARN_MALE_WNE_MDN_5YR',\n",
            "       'EARN_COUNT_NOMALE_WNE_5YR', 'EARN_NOMALE_WNE_MDN_5YR',\n",
            "       'EARN_COUNT_HIGH_CRED_5YR', 'EARN_IN_STATE_5YR'],\n",
            "      dtype='object', length=684)\n",
            "(23441, 510)\n",
            "(228760, 174)\n",
            "(1274636, 684)\n"
          ]
        },
        {
          "output_type": "execute_result",
          "data": {
            "text/plain": [
              "<bound method IndexOpsMixin.value_counts of 0          100654.0\n",
              "1          100654.0\n",
              "2          100654.0\n",
              "3          100654.0\n",
              "4          100654.0\n",
              "             ...   \n",
              "1274631    133951.0\n",
              "1274632    133951.0\n",
              "1274633    133951.0\n",
              "1274634    133951.0\n",
              "1274635    133951.0\n",
              "Name: UNITID, Length: 1274636, dtype: float64>"
            ],
            "text/html": [
              "<div style=\"max-width:800px; border: 1px solid var(--colab-border-color);\"><style>\n",
              "      pre.function-repr-contents {\n",
              "        overflow-x: auto;\n",
              "        padding: 8px 12px;\n",
              "        max-height: 500px;\n",
              "      }\n",
              "\n",
              "      pre.function-repr-contents.function-repr-contents-collapsed {\n",
              "        cursor: pointer;\n",
              "        max-height: 100px;\n",
              "      }\n",
              "    </style>\n",
              "    <pre style=\"white-space: initial; background:\n",
              "         var(--colab-secondary-surface-color); padding: 8px 12px;\n",
              "         border-bottom: 1px solid var(--colab-border-color);\"><b>pandas.core.base.IndexOpsMixin.value_counts</b><br/>def value_counts(normalize: bool=False, sort: bool=True, ascending: bool=False, bins=None, dropna: bool=True) -&gt; Series</pre><pre class=\"function-repr-contents function-repr-contents-collapsed\" style=\"\"><a class=\"filepath\" style=\"display:none\" href=\"#\">/usr/local/lib/python3.11/dist-packages/pandas/core/base.py</a>Return a Series containing counts of unique values.\n",
              "\n",
              "The resulting object will be in descending order so that the\n",
              "first element is the most frequently-occurring element.\n",
              "Excludes NA values by default.\n",
              "\n",
              "Parameters\n",
              "----------\n",
              "normalize : bool, default False\n",
              "    If True then the object returned will contain the relative\n",
              "    frequencies of the unique values.\n",
              "sort : bool, default True\n",
              "    Sort by frequencies when True. Preserve the order of the data when False.\n",
              "ascending : bool, default False\n",
              "    Sort in ascending order.\n",
              "bins : int, optional\n",
              "    Rather than count values, group them into half-open bins,\n",
              "    a convenience for ``pd.cut``, only works with numeric data.\n",
              "dropna : bool, default True\n",
              "    Don&#x27;t include counts of NaN.\n",
              "\n",
              "Returns\n",
              "-------\n",
              "Series\n",
              "\n",
              "See Also\n",
              "--------\n",
              "Series.count: Number of non-NA elements in a Series.\n",
              "DataFrame.count: Number of non-NA elements in a DataFrame.\n",
              "DataFrame.value_counts: Equivalent method on DataFrames.\n",
              "\n",
              "Examples\n",
              "--------\n",
              "&gt;&gt;&gt; index = pd.Index([3, 1, 2, 3, 4, np.nan])\n",
              "&gt;&gt;&gt; index.value_counts()\n",
              "3.0    2\n",
              "1.0    1\n",
              "2.0    1\n",
              "4.0    1\n",
              "Name: count, dtype: int64\n",
              "\n",
              "With `normalize` set to `True`, returns the relative frequency by\n",
              "dividing all values by the sum of values.\n",
              "\n",
              "&gt;&gt;&gt; s = pd.Series([3, 1, 2, 3, 4, np.nan])\n",
              "&gt;&gt;&gt; s.value_counts(normalize=True)\n",
              "3.0    0.4\n",
              "1.0    0.2\n",
              "2.0    0.2\n",
              "4.0    0.2\n",
              "Name: proportion, dtype: float64\n",
              "\n",
              "**bins**\n",
              "\n",
              "Bins can be useful for going from a continuous variable to a\n",
              "categorical variable; instead of counting unique\n",
              "apparitions of values, divide the index in the specified\n",
              "number of half-open bins.\n",
              "\n",
              "&gt;&gt;&gt; s.value_counts(bins=3)\n",
              "(0.996, 2.0]    2\n",
              "(2.0, 3.0]      2\n",
              "(3.0, 4.0]      1\n",
              "Name: count, dtype: int64\n",
              "\n",
              "**dropna**\n",
              "\n",
              "With `dropna` set to `False` we can also see NaN index values.\n",
              "\n",
              "&gt;&gt;&gt; s.value_counts(dropna=False)\n",
              "3.0    2\n",
              "1.0    1\n",
              "2.0    1\n",
              "4.0    1\n",
              "NaN    1\n",
              "Name: count, dtype: int64</pre>\n",
              "      <script>\n",
              "      if (google.colab.kernel.accessAllowed && google.colab.files && google.colab.files.view) {\n",
              "        for (const element of document.querySelectorAll('.filepath')) {\n",
              "          element.style.display = 'block'\n",
              "          element.onclick = (event) => {\n",
              "            event.preventDefault();\n",
              "            event.stopPropagation();\n",
              "            google.colab.files.view(element.textContent, 923);\n",
              "          };\n",
              "        }\n",
              "      }\n",
              "      for (const element of document.querySelectorAll('.function-repr-contents')) {\n",
              "        element.onclick = (event) => {\n",
              "          event.preventDefault();\n",
              "          event.stopPropagation();\n",
              "          element.classList.toggle('function-repr-contents-collapsed');\n",
              "        };\n",
              "      }\n",
              "      </script>\n",
              "      </div>"
            ]
          },
          "metadata": {},
          "execution_count": 34
        }
      ]
    },
    {
      "cell_type": "code",
      "source": [
        "from IPython import get_ipython\n",
        "from IPython.display import display\n",
        "# %%\n",
        "import pandas as pd\n",
        "\n",
        "# Load the datasets\n",
        "#df = pd.read_csv('ScoreCard_IPEDS.csv')\n",
        "# Load the NSF_CIP_codes.csv and specify 'CIP Code' as string type\n",
        "nsf=pd.read_csv('NSF_CIP_codes.csv', dtype={'CIP Code': str})\n",
        "\n",
        "#nsf.head()\n",
        "# %%\n",
        "print(merged_df['CIPCODE'].head())\n",
        "nsf['CIP2']=nsf['CIP Code']\n",
        "# Now that 'CIP2' is guaranteed to be string type, .str accessor will work\n",
        "nsf['CIP2'] = nsf['CIP2'].str.replace('.', '', regex=False)\n",
        "merged_df['STEM_CIP'] = merged_df['CIPCODE'].apply(lambda x: x if str(x) in nsf['CIP Code'].values else 'Non-STEM') # Convert x to string for consistent comparison\n",
        "merged_df['STEM'] = merged_df['CIPCODE'].apply(lambda x: 1 if str(x) in nsf['CIP2'].values else 0) # Convert x to string for consistent comparison\n",
        "\n",
        "print(merged_df['STEM'].value_counts())\n",
        "print(merged_df.shape)\n"
      ],
      "metadata": {
        "id": "bY6q-oUb4iVm",
        "colab": {
          "base_uri": "https://localhost:8080/"
        },
        "outputId": "fd41e813-c23f-4e4e-ad59-1f381f3a5a3d"
      },
      "execution_count": 35,
      "outputs": [
        {
          "output_type": "stream",
          "name": "stdout",
          "text": [
            "0    100\n",
            "1    109\n",
            "2    110\n",
            "3    110\n",
            "4    110\n",
            "Name: CIPCODE, dtype: int64\n",
            "STEM\n",
            "0    1021424\n",
            "1     253212\n",
            "Name: count, dtype: int64\n",
            "(1274636, 686)\n"
          ]
        }
      ]
    },
    {
      "cell_type": "code",
      "source": [
        "import pandas as pd\n",
        "\n",
        "hrsu=pd.read_csv('HRSU.csv')\n",
        "#df=pd.read_csv('ScoreCard_IPEDS_CIP.csv')\n",
        "#change to character strings\n",
        "#hrsu['UNITID']=hrsu['UNITID'].astype(str)\n",
        "#df['UNITID']=df['UNITID'].astype(str)\n",
        "#check these are same type for comparison\n",
        "print(hrsu['UNITID'].dtype)\n",
        "print(merged_df['UNITID'].dtype)\n",
        "\n",
        "# Create a binary variable 'HRSU' in d#f\n",
        "merged_df['HRSU'] = merged_df['UNITID'].apply(lambda x: 1 if x in hrsu['UNITID'].values else 0)\n",
        "\n",
        "# Print the value counts to check the result\n",
        "print(merged_df['HRSU'].value_counts())\n",
        "print(hrsu['UNITID'].values)\n",
        "\n",
        "merged_df.to_csv('ScoreCard_IPEDS_CIP_HRSU.csv', index=False)\n"
      ],
      "metadata": {
        "colab": {
          "base_uri": "https://localhost:8080/"
        },
        "id": "p34ouDIn6FX-",
        "outputId": "866b835b-e9c8-40cb-e6c1-ef1279075cf3"
      },
      "execution_count": null,
      "outputs": [
        {
          "output_type": "stream",
          "name": "stdout",
          "text": [
            "int64\n",
            "float64\n",
            "HRSU\n",
            "0    1216095\n",
            "1      95040\n",
            "Name: count, dtype: int64\n",
            "[104151 190576 133951 185828 228723 229115 228769 228778 228796 229027\n",
            " 104179 110653 110671 110705 110714 132903 126562 225511 145600 182281\n",
            " 187985 227216 122409 133669 188030 445188 110644]\n"
          ]
        }
      ]
    }
  ]
}