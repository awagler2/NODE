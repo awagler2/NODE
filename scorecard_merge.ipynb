{
  "nbformat": 4,
  "nbformat_minor": 0,
  "metadata": {
    "colab": {
      "provenance": [],
      "gpuType": "V28",
      "authorship_tag": "ABX9TyPlyG4ehsDlalvEAGRnHPWw",
      "include_colab_link": true
    },
    "kernelspec": {
      "name": "python3",
      "display_name": "Python 3"
    },
    "language_info": {
      "name": "python"
    },
    "accelerator": "TPU"
  },
  "cells": [
    {
      "cell_type": "markdown",
      "metadata": {
        "id": "view-in-github",
        "colab_type": "text"
      },
      "source": [
        "<a href=\"https://colab.research.google.com/github/awagler2/NODE/blob/main/scorecard_merge.ipynb\" target=\"_parent\"><img src=\"https://colab.research.google.com/assets/colab-badge.svg\" alt=\"Open In Colab\"/></a>"
      ]
    },
    {
      "source": [
        "import pandas as pd\n",
        "\n",
        "# Load the datasets\n",
        "df_imputed = pd.read_csv('full_imputed_final.csv')\n",
        "df_field_of_study = pd.read_csv('FieldOfStudyData1920_2021_PP.csv')\n",
        "hrsu=pd.read_csv('HRSU.csv')\n",
        "# Merge the dataframes on the 'UNITID' column\n",
        "merged_df = pd.merge(df_imputed, df_field_of_study, left_on='unitid',right_on='UNITID')\n",
        "\n",
        "# Display the first few rows of the merged dataframe to verify\n",
        "print(merged_df.shape)\n",
        "print(df_imputed.shape)\n",
        "\n"
      ],
      "cell_type": "code",
      "metadata": {
        "colab": {
          "base_uri": "https://localhost:8080/"
        },
        "id": "GtfswB9h2tQA",
        "outputId": "d9a65bcc-d80d-4798-951d-46ad625ad2ec"
      },
      "execution_count": 1,
      "outputs": [
        {
          "output_type": "stream",
          "name": "stderr",
          "text": [
            "<ipython-input-1-c52e111077ca>:4: DtypeWarning: Columns (26,29,30,501,502) have mixed types. Specify dtype option on import or set low_memory=False.\n",
            "  df_imputed = pd.read_csv('full_imputed_final.csv')\n"
          ]
        },
        {
          "output_type": "stream",
          "name": "stdout",
          "text": [
            "(1311135, 684)\n",
            "(23441, 510)\n"
          ]
        }
      ]
    },
    {
      "cell_type": "code",
      "source": [
        "from IPython import get_ipython\n",
        "from IPython.display import display\n",
        "# %%\n",
        "import pandas as pd\n",
        "\n",
        "# Load the datasets\n",
        "#df = pd.read_csv('ScoreCard_IPEDS.csv')\n",
        "# Load the NSF_CIP_codes.csv and specify 'CIP Code' as string type\n",
        "nsf=pd.read_csv('NSF_CIP_codes.csv', dtype={'CIP Code': str})\n",
        "\n",
        "#nsf.head()\n",
        "# %%\n",
        "#print(df['CIPCODE'].head())\n",
        "nsf['CIP2']=nsf['CIP Code']\n",
        "# Now that 'CIP2' is guaranteed to be string type, .str accessor will work\n",
        "nsf['CIP2'] = nsf['CIP2'].str.replace('.', '', regex=False)\n",
        "merged_df['STEM_CIP'] = merged_df['CIPCODE'].apply(lambda x: x if str(x) in nsf['CIP Code'].values else 'Non-STEM') # Convert x to string for consistent comparison\n",
        "merged_df['STEM'] = merged_df['CIPCODE'].apply(lambda x: 1 if str(x) in nsf['CIP2'].values else 0) # Convert x to string for consistent comparison\n",
        "\n",
        "print(merged_df['STEM'].value_counts())\n",
        "print(merged_df.shape)\n",
        "#merged_df.to_csv('ScoreCard_IPEDS_CIP.csv', index=False)\n",
        "\n",
        "#merged_df.to_csv('ScoreCard_IPEDS.csv', index=False)"
      ],
      "metadata": {
        "id": "bY6q-oUb4iVm",
        "colab": {
          "base_uri": "https://localhost:8080/"
        },
        "outputId": "da5a430b-15fc-4f0a-f6c6-1982019a89b5"
      },
      "execution_count": 5,
      "outputs": [
        {
          "output_type": "stream",
          "name": "stdout",
          "text": [
            "STEM\n",
            "0    1047556\n",
            "1     263579\n",
            "Name: count, dtype: int64\n",
            "(1311135, 687)\n"
          ]
        }
      ]
    },
    {
      "cell_type": "code",
      "source": [
        "import pandas as pd\n",
        "\n",
        "hrsu=pd.read_csv('HRSU.csv')\n",
        "#df=pd.read_csv('ScoreCard_IPEDS_CIP.csv')\n",
        "#change to character strings\n",
        "#hrsu['UNITID']=hrsu['UNITID'].astype(str)\n",
        "#df['UNITID']=df['UNITID'].astype(str)\n",
        "#check these are same type for comparison\n",
        "print(hrsu['UNITID'].dtype)\n",
        "print(merged_df['UNITID'].dtype)\n",
        "\n",
        "# Create a binary variable 'HRSU' in d#f\n",
        "merged_df['HRSU'] = merged_df['UNITID'].apply(lambda x: 1 if x in hrsu['UNITID'].values else 0)\n",
        "\n",
        "# Print the value counts to check the result\n",
        "print(merged_df['HRSU'].value_counts())\n",
        "print(hrsu['UNITID'].values)\n",
        "\n",
        "merged_df.to_csv('ScoreCard_IPEDS_CIP_HRSU.csv', index=False)\n"
      ],
      "metadata": {
        "colab": {
          "base_uri": "https://localhost:8080/"
        },
        "id": "p34ouDIn6FX-",
        "outputId": "866b835b-e9c8-40cb-e6c1-ef1279075cf3"
      },
      "execution_count": 7,
      "outputs": [
        {
          "output_type": "stream",
          "name": "stdout",
          "text": [
            "int64\n",
            "float64\n",
            "HRSU\n",
            "0    1216095\n",
            "1      95040\n",
            "Name: count, dtype: int64\n",
            "[104151 190576 133951 185828 228723 229115 228769 228778 228796 229027\n",
            " 104179 110653 110671 110705 110714 132903 126562 225511 145600 182281\n",
            " 187985 227216 122409 133669 188030 445188 110644]\n"
          ]
        }
      ]
    }
  ]
}